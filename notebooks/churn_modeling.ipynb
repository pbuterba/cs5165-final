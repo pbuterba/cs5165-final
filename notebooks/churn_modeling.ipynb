{
  "cells": [
    {
      "cell_type": "code",
      "source": [
        "!pip install pymssql sqlalchemy\n",
        "!pip install \"sqlalchemy<2.0\"\n"
      ],
      "outputs": [
        {
          "output_type": "stream",
          "name": "stdout",
          "text": "Collecting pymssql\n  Downloading pymssql-2.3.4-cp310-cp310-manylinux_2_28_x86_64.whl (4.7 MB)\n\u001b[2K     \u001b[90m━━━━━━━━━━━━━━━━━━━━━━━━━━━━━━━━━━━━━━━━\u001b[0m \u001b[32m4.7/4.7 MB\u001b[0m \u001b[31m64.9 MB/s\u001b[0m eta \u001b[36m0:00:00\u001b[0m:00:01\u001b[0m0:01\u001b[0m\n\u001b[?25hCollecting sqlalchemy\n  Downloading sqlalchemy-2.0.40-cp310-cp310-manylinux_2_17_x86_64.manylinux2014_x86_64.whl (3.1 MB)\n\u001b[2K     \u001b[90m━━━━━━━━━━━━━━━━━━━━━━━━━━━━━━━━━━━━━━━━\u001b[0m \u001b[32m3.1/3.1 MB\u001b[0m \u001b[31m86.5 MB/s\u001b[0m eta \u001b[36m0:00:00\u001b[0m:00:01\u001b[0m\n\u001b[?25hRequirement already satisfied: greenlet>=1 in /anaconda/envs/azureml_py38/lib/python3.10/site-packages (from sqlalchemy) (3.1.1)\nRequirement already satisfied: typing-extensions>=4.6.0 in /anaconda/envs/azureml_py38/lib/python3.10/site-packages (from sqlalchemy) (4.13.1)\nInstalling collected packages: sqlalchemy, pymssql\nSuccessfully installed pymssql-2.3.4 sqlalchemy-2.0.40\nCollecting sqlalchemy<2.0\n  Downloading SQLAlchemy-1.4.54-cp310-cp310-manylinux_2_5_x86_64.manylinux1_x86_64.manylinux_2_17_x86_64.manylinux2014_x86_64.whl (1.6 MB)\n\u001b[2K     \u001b[90m━━━━━━━━━━━━━━━━━━━━━━━━━━━━━━━━━━━━━━━━\u001b[0m \u001b[32m1.6/1.6 MB\u001b[0m \u001b[31m35.0 MB/s\u001b[0m eta \u001b[36m0:00:00\u001b[0m00:01\u001b[0m\n\u001b[?25hRequirement already satisfied: greenlet!=0.4.17 in /anaconda/envs/azureml_py38/lib/python3.10/site-packages (from sqlalchemy<2.0) (3.1.1)\nInstalling collected packages: sqlalchemy\n  Attempting uninstall: sqlalchemy\n    Found existing installation: SQLAlchemy 2.0.40\n    Uninstalling SQLAlchemy-2.0.40:\n      Successfully uninstalled SQLAlchemy-2.0.40\nSuccessfully installed sqlalchemy-1.4.54\n"
        }
      ],
      "execution_count": 8,
      "metadata": {
        "editable": true,
        "run_control": {
          "frozen": false
        }
      }
    },
    {
      "cell_type": "code",
      "source": [
        "from sqlalchemy import create_engine\n",
        "import pandas as pd\n",
        "\n",
        "# Connection details\n",
        "server = 'cs5165-server.database.windows.net'\n",
        "database = 'cs5165-database'\n",
        "username = 'prestonisawesome'\n",
        "password = 'Password123!'\n",
        "\n",
        "# Use pymssql via SQLAlchemy\n",
        "conn_str = f\"mssql+pymssql://{username}:{password}@{server}:1433/{database}\"\n",
        "engine = create_engine(conn_str)\n",
        "\n",
        "# Load tables\n",
        "features_df = pd.read_sql_query(\"SELECT * FROM dbo.churn_features\", engine)\n",
        "labels_df = pd.read_sql_query(\"SELECT HSHD_NUM, churned FROM dbo.churn_labels\", engine)\n",
        "\n",
        "# Merge\n",
        "df = features_df.merge(labels_df, on=\"HSHD_NUM\")\n",
        "df.head()\n"
      ],
      "outputs": [
        {
          "output_type": "execute_result",
          "execution_count": 11,
          "data": {
            "text/plain": "   HSHD_NUM  total_visits  total_transactions  total_spend  avg_units_per_txn  \\\n0        10           148                1419      8328.26                 11   \n1        29             2                   6        19.95                  3   \n2        53           152                1782      5317.14                 17   \n3        54           237                2023      7266.36                 14   \n4        60           518                7574     26982.27                 19   \n\n  last_purchase first_purchase  unique_products  \\\n0    2020-05-12     2018-08-19              646   \n1    2019-10-19     2019-03-10                6   \n2    2020-05-13     2018-08-20              722   \n3    2020-05-12     2018-08-20              998   \n4    2020-05-16     2018-08-19             2052   \n\n                                           AGE_RANGE  MARITAL  \\\n0  45-54                                         ...  Single    \n1  55-64                                         ...  Married   \n2  55-64                                         ...  Married   \n3  75+                                           ...  Married   \n4  45-54                                         ...  Married   \n\n                                        INCOME_RANGE  HOMEOWNER  \\\n0  35-49K                                        ...  Homeowner   \n1  100-150K                                      ...  Homeowner   \n2  50-74K                                        ...  Homeowner   \n3  UNDER 35K                                     ...  Homeowner   \n4  35-49K                                        ...  Homeowner   \n\n                                             HH_SIZE CHILDREN  churned  \n0  1                                             ...     null        0  \n1  3                                             ...        1        1  \n2  3                                             ...        1        0  \n3  2                                             ...     null        0  \n4  5+                                            ...       3+        0  ",
            "text/html": "<div>\n<style scoped>\n    .dataframe tbody tr th:only-of-type {\n        vertical-align: middle;\n    }\n\n    .dataframe tbody tr th {\n        vertical-align: top;\n    }\n\n    .dataframe thead th {\n        text-align: right;\n    }\n</style>\n<table border=\"1\" class=\"dataframe\">\n  <thead>\n    <tr style=\"text-align: right;\">\n      <th></th>\n      <th>HSHD_NUM</th>\n      <th>total_visits</th>\n      <th>total_transactions</th>\n      <th>total_spend</th>\n      <th>avg_units_per_txn</th>\n      <th>last_purchase</th>\n      <th>first_purchase</th>\n      <th>unique_products</th>\n      <th>AGE_RANGE</th>\n      <th>MARITAL</th>\n      <th>INCOME_RANGE</th>\n      <th>HOMEOWNER</th>\n      <th>HH_SIZE</th>\n      <th>CHILDREN</th>\n      <th>churned</th>\n    </tr>\n  </thead>\n  <tbody>\n    <tr>\n      <th>0</th>\n      <td>10</td>\n      <td>148</td>\n      <td>1419</td>\n      <td>8328.26</td>\n      <td>11</td>\n      <td>2020-05-12</td>\n      <td>2018-08-19</td>\n      <td>646</td>\n      <td>45-54                                         ...</td>\n      <td>Single</td>\n      <td>35-49K                                        ...</td>\n      <td>Homeowner</td>\n      <td>1                                             ...</td>\n      <td>null</td>\n      <td>0</td>\n    </tr>\n    <tr>\n      <th>1</th>\n      <td>29</td>\n      <td>2</td>\n      <td>6</td>\n      <td>19.95</td>\n      <td>3</td>\n      <td>2019-10-19</td>\n      <td>2019-03-10</td>\n      <td>6</td>\n      <td>55-64                                         ...</td>\n      <td>Married</td>\n      <td>100-150K                                      ...</td>\n      <td>Homeowner</td>\n      <td>3                                             ...</td>\n      <td>1</td>\n      <td>1</td>\n    </tr>\n    <tr>\n      <th>2</th>\n      <td>53</td>\n      <td>152</td>\n      <td>1782</td>\n      <td>5317.14</td>\n      <td>17</td>\n      <td>2020-05-13</td>\n      <td>2018-08-20</td>\n      <td>722</td>\n      <td>55-64                                         ...</td>\n      <td>Married</td>\n      <td>50-74K                                        ...</td>\n      <td>Homeowner</td>\n      <td>3                                             ...</td>\n      <td>1</td>\n      <td>0</td>\n    </tr>\n    <tr>\n      <th>3</th>\n      <td>54</td>\n      <td>237</td>\n      <td>2023</td>\n      <td>7266.36</td>\n      <td>14</td>\n      <td>2020-05-12</td>\n      <td>2018-08-20</td>\n      <td>998</td>\n      <td>75+                                           ...</td>\n      <td>Married</td>\n      <td>UNDER 35K                                     ...</td>\n      <td>Homeowner</td>\n      <td>2                                             ...</td>\n      <td>null</td>\n      <td>0</td>\n    </tr>\n    <tr>\n      <th>4</th>\n      <td>60</td>\n      <td>518</td>\n      <td>7574</td>\n      <td>26982.27</td>\n      <td>19</td>\n      <td>2020-05-16</td>\n      <td>2018-08-19</td>\n      <td>2052</td>\n      <td>45-54                                         ...</td>\n      <td>Married</td>\n      <td>35-49K                                        ...</td>\n      <td>Homeowner</td>\n      <td>5+                                            ...</td>\n      <td>3+</td>\n      <td>0</td>\n    </tr>\n  </tbody>\n</table>\n</div>"
          },
          "metadata": {}
        }
      ],
      "execution_count": 11,
      "metadata": {
        "gather": {
          "logged": 1745697009318
        }
      }
    },
    {
      "cell_type": "code",
      "source": [
        "# Check basic info about the dataset\n",
        "df.info()\n",
        "\n",
        "# Check for nulls\n",
        "df.isnull().sum()\n",
        "\n",
        "# Summary stats\n",
        "df.describe()\n",
        "\n",
        "# See the distribution of churned households\n",
        "df['churned'].value_counts()\n"
      ],
      "outputs": [
        {
          "output_type": "stream",
          "name": "stdout",
          "text": "<class 'pandas.core.frame.DataFrame'>\nInt64Index: 396 entries, 0 to 395\nData columns (total 15 columns):\n #   Column              Non-Null Count  Dtype  \n---  ------              --------------  -----  \n 0   HSHD_NUM            396 non-null    int64  \n 1   total_visits        396 non-null    int64  \n 2   total_transactions  396 non-null    int64  \n 3   total_spend         396 non-null    float64\n 4   avg_units_per_txn   396 non-null    int64  \n 5   last_purchase       396 non-null    object \n 6   first_purchase      396 non-null    object \n 7   unique_products     396 non-null    int64  \n 8   AGE_RANGE           396 non-null    object \n 9   MARITAL             396 non-null    object \n 10  INCOME_RANGE        396 non-null    object \n 11  HOMEOWNER           396 non-null    object \n 12  HH_SIZE             396 non-null    object \n 13  CHILDREN            396 non-null    object \n 14  churned             396 non-null    int64  \ndtypes: float64(1), int64(6), object(8)\nmemory usage: 49.5+ KB\n"
        },
        {
          "output_type": "execute_result",
          "execution_count": 12,
          "data": {
            "text/plain": "0    332\n1     64\nName: churned, dtype: int64"
          },
          "metadata": {}
        }
      ],
      "execution_count": 12,
      "metadata": {
        "gather": {
          "logged": 1745697011936
        }
      }
    },
    {
      "cell_type": "code",
      "source": [
        "# convert data to datetime format\n",
        "df['last_purchase'] = pd.to_datetime(df['last_purchase'])\n",
        "df['first_purchase'] = pd.to_datetime(df['first_purchase'])"
      ],
      "outputs": [],
      "execution_count": 13,
      "metadata": {
        "gather": {
          "logged": 1745697016983
        }
      }
    },
    {
      "cell_type": "code",
      "source": [
        "import numpy as np\n",
        "\n",
        "# Standardize everything: lowercase and strip\n",
        "df['AGE_RANGE'] = df['AGE_RANGE'].astype(str).str.strip().str.lower()\n",
        "\n",
        "# Replace both real and string nulls with 'unknown'\n",
        "df['AGE_RANGE'] = df['AGE_RANGE'].replace(['nan', 'none', 'null'], 'unknown')\n"
      ],
      "outputs": [],
      "execution_count": 14,
      "metadata": {
        "gather": {
          "logged": 1745697017231
        }
      }
    },
    {
      "cell_type": "code",
      "source": [
        "df.filter(like='AGE_').head()"
      ],
      "outputs": [
        {
          "output_type": "execute_result",
          "execution_count": 15,
          "data": {
            "text/plain": "  AGE_RANGE\n0     45-54\n1     55-64\n2     55-64\n3       75+\n4     45-54",
            "text/html": "<div>\n<style scoped>\n    .dataframe tbody tr th:only-of-type {\n        vertical-align: middle;\n    }\n\n    .dataframe tbody tr th {\n        vertical-align: top;\n    }\n\n    .dataframe thead th {\n        text-align: right;\n    }\n</style>\n<table border=\"1\" class=\"dataframe\">\n  <thead>\n    <tr style=\"text-align: right;\">\n      <th></th>\n      <th>AGE_RANGE</th>\n    </tr>\n  </thead>\n  <tbody>\n    <tr>\n      <th>0</th>\n      <td>45-54</td>\n    </tr>\n    <tr>\n      <th>1</th>\n      <td>55-64</td>\n    </tr>\n    <tr>\n      <th>2</th>\n      <td>55-64</td>\n    </tr>\n    <tr>\n      <th>3</th>\n      <td>75+</td>\n    </tr>\n    <tr>\n      <th>4</th>\n      <td>45-54</td>\n    </tr>\n  </tbody>\n</table>\n</div>"
          },
          "metadata": {}
        }
      ],
      "execution_count": 15,
      "metadata": {
        "gather": {
          "logged": 1745697017515
        }
      }
    },
    {
      "cell_type": "code",
      "source": [
        "df = pd.get_dummies(df, columns=['AGE_RANGE'], prefix='AGE', drop_first=True)"
      ],
      "outputs": [],
      "execution_count": 16,
      "metadata": {
        "gather": {
          "logged": 1745697017763
        }
      }
    },
    {
      "cell_type": "code",
      "source": [
        "df.head()\n"
      ],
      "outputs": [
        {
          "output_type": "execute_result",
          "execution_count": 17,
          "data": {
            "text/plain": "   HSHD_NUM  total_visits  total_transactions  total_spend  avg_units_per_txn  \\\n0        10           148                1419      8328.26                 11   \n1        29             2                   6        19.95                  3   \n2        53           152                1782      5317.14                 17   \n3        54           237                2023      7266.36                 14   \n4        60           518                7574     26982.27                 19   \n\n  last_purchase first_purchase  unique_products  MARITAL  \\\n0    2020-05-12     2018-08-19              646  Single    \n1    2019-10-19     2019-03-10                6  Married   \n2    2020-05-13     2018-08-20              722  Married   \n3    2020-05-12     2018-08-20              998  Married   \n4    2020-05-16     2018-08-19             2052  Married   \n\n                                        INCOME_RANGE  ...  \\\n0  35-49K                                        ...  ...   \n1  100-150K                                      ...  ...   \n2  50-74K                                        ...  ...   \n3  UNDER 35K                                     ...  ...   \n4  35-49K                                        ...  ...   \n\n                                             HH_SIZE CHILDREN churned  \\\n0  1                                             ...     null       0   \n1  3                                             ...        1       1   \n2  3                                             ...        1       0   \n3  2                                             ...     null       0   \n4  5+                                            ...       3+       0   \n\n   AGE_25-34  AGE_35-44  AGE_45-54  AGE_55-64  AGE_65-74  AGE_75+  AGE_unknown  \n0          0          0          1          0          0        0            0  \n1          0          0          0          1          0        0            0  \n2          0          0          0          1          0        0            0  \n3          0          0          0          0          0        1            0  \n4          0          0          1          0          0        0            0  \n\n[5 rows x 21 columns]",
            "text/html": "<div>\n<style scoped>\n    .dataframe tbody tr th:only-of-type {\n        vertical-align: middle;\n    }\n\n    .dataframe tbody tr th {\n        vertical-align: top;\n    }\n\n    .dataframe thead th {\n        text-align: right;\n    }\n</style>\n<table border=\"1\" class=\"dataframe\">\n  <thead>\n    <tr style=\"text-align: right;\">\n      <th></th>\n      <th>HSHD_NUM</th>\n      <th>total_visits</th>\n      <th>total_transactions</th>\n      <th>total_spend</th>\n      <th>avg_units_per_txn</th>\n      <th>last_purchase</th>\n      <th>first_purchase</th>\n      <th>unique_products</th>\n      <th>MARITAL</th>\n      <th>INCOME_RANGE</th>\n      <th>...</th>\n      <th>HH_SIZE</th>\n      <th>CHILDREN</th>\n      <th>churned</th>\n      <th>AGE_25-34</th>\n      <th>AGE_35-44</th>\n      <th>AGE_45-54</th>\n      <th>AGE_55-64</th>\n      <th>AGE_65-74</th>\n      <th>AGE_75+</th>\n      <th>AGE_unknown</th>\n    </tr>\n  </thead>\n  <tbody>\n    <tr>\n      <th>0</th>\n      <td>10</td>\n      <td>148</td>\n      <td>1419</td>\n      <td>8328.26</td>\n      <td>11</td>\n      <td>2020-05-12</td>\n      <td>2018-08-19</td>\n      <td>646</td>\n      <td>Single</td>\n      <td>35-49K                                        ...</td>\n      <td>...</td>\n      <td>1                                             ...</td>\n      <td>null</td>\n      <td>0</td>\n      <td>0</td>\n      <td>0</td>\n      <td>1</td>\n      <td>0</td>\n      <td>0</td>\n      <td>0</td>\n      <td>0</td>\n    </tr>\n    <tr>\n      <th>1</th>\n      <td>29</td>\n      <td>2</td>\n      <td>6</td>\n      <td>19.95</td>\n      <td>3</td>\n      <td>2019-10-19</td>\n      <td>2019-03-10</td>\n      <td>6</td>\n      <td>Married</td>\n      <td>100-150K                                      ...</td>\n      <td>...</td>\n      <td>3                                             ...</td>\n      <td>1</td>\n      <td>1</td>\n      <td>0</td>\n      <td>0</td>\n      <td>0</td>\n      <td>1</td>\n      <td>0</td>\n      <td>0</td>\n      <td>0</td>\n    </tr>\n    <tr>\n      <th>2</th>\n      <td>53</td>\n      <td>152</td>\n      <td>1782</td>\n      <td>5317.14</td>\n      <td>17</td>\n      <td>2020-05-13</td>\n      <td>2018-08-20</td>\n      <td>722</td>\n      <td>Married</td>\n      <td>50-74K                                        ...</td>\n      <td>...</td>\n      <td>3                                             ...</td>\n      <td>1</td>\n      <td>0</td>\n      <td>0</td>\n      <td>0</td>\n      <td>0</td>\n      <td>1</td>\n      <td>0</td>\n      <td>0</td>\n      <td>0</td>\n    </tr>\n    <tr>\n      <th>3</th>\n      <td>54</td>\n      <td>237</td>\n      <td>2023</td>\n      <td>7266.36</td>\n      <td>14</td>\n      <td>2020-05-12</td>\n      <td>2018-08-20</td>\n      <td>998</td>\n      <td>Married</td>\n      <td>UNDER 35K                                     ...</td>\n      <td>...</td>\n      <td>2                                             ...</td>\n      <td>null</td>\n      <td>0</td>\n      <td>0</td>\n      <td>0</td>\n      <td>0</td>\n      <td>0</td>\n      <td>0</td>\n      <td>1</td>\n      <td>0</td>\n    </tr>\n    <tr>\n      <th>4</th>\n      <td>60</td>\n      <td>518</td>\n      <td>7574</td>\n      <td>26982.27</td>\n      <td>19</td>\n      <td>2020-05-16</td>\n      <td>2018-08-19</td>\n      <td>2052</td>\n      <td>Married</td>\n      <td>35-49K                                        ...</td>\n      <td>...</td>\n      <td>5+                                            ...</td>\n      <td>3+</td>\n      <td>0</td>\n      <td>0</td>\n      <td>0</td>\n      <td>1</td>\n      <td>0</td>\n      <td>0</td>\n      <td>0</td>\n      <td>0</td>\n    </tr>\n  </tbody>\n</table>\n<p>5 rows × 21 columns</p>\n</div>"
          },
          "metadata": {}
        }
      ],
      "execution_count": 17,
      "metadata": {
        "gather": {
          "logged": 1745697018066
        }
      }
    },
    {
      "cell_type": "code",
      "source": [
        "# Clean and standardize\n",
        "df['MARITAL'] = df['MARITAL'].astype(str).str.strip().str.lower()\n",
        "df['MARITAL'] = df['MARITAL'].replace(['nan', 'null', 'none'], 'unknown')\n",
        "\n",
        "# One-hot encode\n",
        "df = pd.get_dummies(df, columns=['MARITAL'], prefix='MARITAL', drop_first=True)\n",
        "\n",
        "# Verify\n",
        "df.filter(like='MARITAL_').head()\n"
      ],
      "outputs": [
        {
          "output_type": "execute_result",
          "execution_count": 18,
          "data": {
            "text/plain": "   MARITAL_single  MARITAL_unknown\n0               1                0\n1               0                0\n2               0                0\n3               0                0\n4               0                0",
            "text/html": "<div>\n<style scoped>\n    .dataframe tbody tr th:only-of-type {\n        vertical-align: middle;\n    }\n\n    .dataframe tbody tr th {\n        vertical-align: top;\n    }\n\n    .dataframe thead th {\n        text-align: right;\n    }\n</style>\n<table border=\"1\" class=\"dataframe\">\n  <thead>\n    <tr style=\"text-align: right;\">\n      <th></th>\n      <th>MARITAL_single</th>\n      <th>MARITAL_unknown</th>\n    </tr>\n  </thead>\n  <tbody>\n    <tr>\n      <th>0</th>\n      <td>1</td>\n      <td>0</td>\n    </tr>\n    <tr>\n      <th>1</th>\n      <td>0</td>\n      <td>0</td>\n    </tr>\n    <tr>\n      <th>2</th>\n      <td>0</td>\n      <td>0</td>\n    </tr>\n    <tr>\n      <th>3</th>\n      <td>0</td>\n      <td>0</td>\n    </tr>\n    <tr>\n      <th>4</th>\n      <td>0</td>\n      <td>0</td>\n    </tr>\n  </tbody>\n</table>\n</div>"
          },
          "metadata": {}
        }
      ],
      "execution_count": 18,
      "metadata": {
        "gather": {
          "logged": 1745697018415
        }
      }
    },
    {
      "cell_type": "code",
      "source": [
        "# Clean up formatting\n",
        "df['INCOME_RANGE'] = df['INCOME_RANGE'].astype(str).str.strip().str.upper()\n",
        "\n",
        "# Replace string nulls with 'UNKNOWN'\n",
        "df['INCOME_RANGE'] = df['INCOME_RANGE'].replace(['NAN', 'NULL', 'NONE'], 'UNKNOWN')\n",
        "\n",
        "# Define ordinal mapping\n",
        "income_map = {\n",
        "    'UNDER 35K': 0,\n",
        "    '35-49K': 1,\n",
        "    '50-74K': 2,\n",
        "    '75-99K': 3,\n",
        "    '100-150K': 4,\n",
        "    '150K+': 5,\n",
        "    'UNKNOWN': -1  # optional: treat unknowns separately\n",
        "}\n",
        "\n",
        "# Apply the mapping\n",
        "df['INCOME_RANGE_ENCODED'] = df['INCOME_RANGE'].map(income_map)\n"
      ],
      "outputs": [],
      "execution_count": 19,
      "metadata": {
        "gather": {
          "logged": 1745697018751
        }
      }
    },
    {
      "cell_type": "code",
      "source": [
        "df[['INCOME_RANGE', 'INCOME_RANGE_ENCODED']].head(10)\n"
      ],
      "outputs": [
        {
          "output_type": "execute_result",
          "execution_count": 20,
          "data": {
            "text/plain": "  INCOME_RANGE  INCOME_RANGE_ENCODED\n0       35-49K                     1\n1     100-150K                     4\n2       50-74K                     2\n3    UNDER 35K                     0\n4       35-49K                     1\n5       50-74K                     2\n6       75-99K                     3\n7       75-99K                     3\n8       35-49K                     1\n9        150K+                     5",
            "text/html": "<div>\n<style scoped>\n    .dataframe tbody tr th:only-of-type {\n        vertical-align: middle;\n    }\n\n    .dataframe tbody tr th {\n        vertical-align: top;\n    }\n\n    .dataframe thead th {\n        text-align: right;\n    }\n</style>\n<table border=\"1\" class=\"dataframe\">\n  <thead>\n    <tr style=\"text-align: right;\">\n      <th></th>\n      <th>INCOME_RANGE</th>\n      <th>INCOME_RANGE_ENCODED</th>\n    </tr>\n  </thead>\n  <tbody>\n    <tr>\n      <th>0</th>\n      <td>35-49K</td>\n      <td>1</td>\n    </tr>\n    <tr>\n      <th>1</th>\n      <td>100-150K</td>\n      <td>4</td>\n    </tr>\n    <tr>\n      <th>2</th>\n      <td>50-74K</td>\n      <td>2</td>\n    </tr>\n    <tr>\n      <th>3</th>\n      <td>UNDER 35K</td>\n      <td>0</td>\n    </tr>\n    <tr>\n      <th>4</th>\n      <td>35-49K</td>\n      <td>1</td>\n    </tr>\n    <tr>\n      <th>5</th>\n      <td>50-74K</td>\n      <td>2</td>\n    </tr>\n    <tr>\n      <th>6</th>\n      <td>75-99K</td>\n      <td>3</td>\n    </tr>\n    <tr>\n      <th>7</th>\n      <td>75-99K</td>\n      <td>3</td>\n    </tr>\n    <tr>\n      <th>8</th>\n      <td>35-49K</td>\n      <td>1</td>\n    </tr>\n    <tr>\n      <th>9</th>\n      <td>150K+</td>\n      <td>5</td>\n    </tr>\n  </tbody>\n</table>\n</div>"
          },
          "metadata": {}
        }
      ],
      "execution_count": 20,
      "metadata": {
        "gather": {
          "logged": 1745697019015
        }
      }
    },
    {
      "cell_type": "code",
      "source": [
        "# Normalize\n",
        "df['HOMEOWNER'] = df['HOMEOWNER'].astype(str).str.strip().str.lower()\n",
        "\n",
        "# Replace nulls and weird strings\n",
        "df['HOMEOWNER'] = df['HOMEOWNER'].replace(['nan', 'null', 'none'], 'unknown')\n",
        "\n",
        "# Binary encode: 1 for homeowner, 0 for non-homeowners or unknown\n",
        "df['IS_HOMEOWNER'] = df['HOMEOWNER'].apply(lambda x: 1 if x == 'homeowner' else 0)\n",
        "df[['HOMEOWNER', 'IS_HOMEOWNER']].head(30)\n"
      ],
      "outputs": [
        {
          "output_type": "execute_result",
          "execution_count": 21,
          "data": {
            "text/plain": "    HOMEOWNER  IS_HOMEOWNER\n0   homeowner             1\n1   homeowner             1\n2   homeowner             1\n3   homeowner             1\n4   homeowner             1\n5   homeowner             1\n6   homeowner             1\n7   homeowner             1\n8   homeowner             1\n9   homeowner             1\n10  homeowner             1\n11     renter             0\n12  homeowner             1\n13    unknown             0\n14  homeowner             1\n15  homeowner             1\n16  homeowner             1\n17     renter             0\n18  homeowner             1\n19  homeowner             1\n20     renter             0\n21    unknown             0\n22  homeowner             1\n23    unknown             0\n24  homeowner             1\n25  homeowner             1\n26  homeowner             1\n27  homeowner             1\n28  homeowner             1\n29  homeowner             1",
            "text/html": "<div>\n<style scoped>\n    .dataframe tbody tr th:only-of-type {\n        vertical-align: middle;\n    }\n\n    .dataframe tbody tr th {\n        vertical-align: top;\n    }\n\n    .dataframe thead th {\n        text-align: right;\n    }\n</style>\n<table border=\"1\" class=\"dataframe\">\n  <thead>\n    <tr style=\"text-align: right;\">\n      <th></th>\n      <th>HOMEOWNER</th>\n      <th>IS_HOMEOWNER</th>\n    </tr>\n  </thead>\n  <tbody>\n    <tr>\n      <th>0</th>\n      <td>homeowner</td>\n      <td>1</td>\n    </tr>\n    <tr>\n      <th>1</th>\n      <td>homeowner</td>\n      <td>1</td>\n    </tr>\n    <tr>\n      <th>2</th>\n      <td>homeowner</td>\n      <td>1</td>\n    </tr>\n    <tr>\n      <th>3</th>\n      <td>homeowner</td>\n      <td>1</td>\n    </tr>\n    <tr>\n      <th>4</th>\n      <td>homeowner</td>\n      <td>1</td>\n    </tr>\n    <tr>\n      <th>5</th>\n      <td>homeowner</td>\n      <td>1</td>\n    </tr>\n    <tr>\n      <th>6</th>\n      <td>homeowner</td>\n      <td>1</td>\n    </tr>\n    <tr>\n      <th>7</th>\n      <td>homeowner</td>\n      <td>1</td>\n    </tr>\n    <tr>\n      <th>8</th>\n      <td>homeowner</td>\n      <td>1</td>\n    </tr>\n    <tr>\n      <th>9</th>\n      <td>homeowner</td>\n      <td>1</td>\n    </tr>\n    <tr>\n      <th>10</th>\n      <td>homeowner</td>\n      <td>1</td>\n    </tr>\n    <tr>\n      <th>11</th>\n      <td>renter</td>\n      <td>0</td>\n    </tr>\n    <tr>\n      <th>12</th>\n      <td>homeowner</td>\n      <td>1</td>\n    </tr>\n    <tr>\n      <th>13</th>\n      <td>unknown</td>\n      <td>0</td>\n    </tr>\n    <tr>\n      <th>14</th>\n      <td>homeowner</td>\n      <td>1</td>\n    </tr>\n    <tr>\n      <th>15</th>\n      <td>homeowner</td>\n      <td>1</td>\n    </tr>\n    <tr>\n      <th>16</th>\n      <td>homeowner</td>\n      <td>1</td>\n    </tr>\n    <tr>\n      <th>17</th>\n      <td>renter</td>\n      <td>0</td>\n    </tr>\n    <tr>\n      <th>18</th>\n      <td>homeowner</td>\n      <td>1</td>\n    </tr>\n    <tr>\n      <th>19</th>\n      <td>homeowner</td>\n      <td>1</td>\n    </tr>\n    <tr>\n      <th>20</th>\n      <td>renter</td>\n      <td>0</td>\n    </tr>\n    <tr>\n      <th>21</th>\n      <td>unknown</td>\n      <td>0</td>\n    </tr>\n    <tr>\n      <th>22</th>\n      <td>homeowner</td>\n      <td>1</td>\n    </tr>\n    <tr>\n      <th>23</th>\n      <td>unknown</td>\n      <td>0</td>\n    </tr>\n    <tr>\n      <th>24</th>\n      <td>homeowner</td>\n      <td>1</td>\n    </tr>\n    <tr>\n      <th>25</th>\n      <td>homeowner</td>\n      <td>1</td>\n    </tr>\n    <tr>\n      <th>26</th>\n      <td>homeowner</td>\n      <td>1</td>\n    </tr>\n    <tr>\n      <th>27</th>\n      <td>homeowner</td>\n      <td>1</td>\n    </tr>\n    <tr>\n      <th>28</th>\n      <td>homeowner</td>\n      <td>1</td>\n    </tr>\n    <tr>\n      <th>29</th>\n      <td>homeowner</td>\n      <td>1</td>\n    </tr>\n  </tbody>\n</table>\n</div>"
          },
          "metadata": {}
        }
      ],
      "execution_count": 21,
      "metadata": {
        "gather": {
          "logged": 1745697019293
        }
      }
    },
    {
      "cell_type": "code",
      "source": [
        "import numpy as np\n",
        "\n",
        "# Standardize and clean\n",
        "df['HH_SIZE'] = df['HH_SIZE'].astype(str).str.strip().str.upper()\n",
        "df['HH_SIZE'] = df['HH_SIZE'].replace({'5+': 5, 'NULL': np.nan, 'NAN': np.nan, 'NONE': np.nan})\n",
        "\n",
        "# Convert to numeric\n",
        "df['HH_SIZE'] = pd.to_numeric(df['HH_SIZE'])\n",
        "\n",
        "# Impute missing values with median (safe for small dataset)\n",
        "df['HH_SIZE'] = df['HH_SIZE'].fillna(df['HH_SIZE'].median())\n"
      ],
      "outputs": [],
      "execution_count": 22,
      "metadata": {
        "gather": {
          "logged": 1745697019650
        }
      }
    },
    {
      "cell_type": "code",
      "source": [
        "df['HH_SIZE'].describe()"
      ],
      "outputs": [
        {
          "output_type": "execute_result",
          "execution_count": 23,
          "data": {
            "text/plain": "count    396.000000\nmean       2.378788\nstd        1.189811\nmin        1.000000\n25%        2.000000\n50%        2.000000\n75%        3.000000\nmax        5.000000\nName: HH_SIZE, dtype: float64"
          },
          "metadata": {}
        }
      ],
      "execution_count": 23,
      "metadata": {
        "gather": {
          "logged": 1745697019900
        },
        "collapsed": false
      }
    },
    {
      "cell_type": "code",
      "source": [
        "# Normalize strings\n",
        "df['CHILDREN'] = df['CHILDREN'].astype(str).str.strip().str.upper()\n",
        "\n",
        "# Replace '3+' with 3 (or 4 if you want to emphasize \"many\")\n",
        "df['CHILDREN'] = df['CHILDREN'].replace({'3+': 3, 'NULL': np.nan, 'NAN': np.nan, 'NONE': np.nan})\n",
        "\n",
        "# Convert to numeric\n",
        "df['CHILDREN'] = pd.to_numeric(df['CHILDREN'])\n",
        "\n",
        "# Fill missing with median\n",
        "df['CHILDREN'] = df['CHILDREN'].fillna(df['CHILDREN'].median())\n",
        "df.head(30)"
      ],
      "outputs": [
        {
          "output_type": "execute_result",
          "execution_count": 24,
          "data": {
            "text/plain": "    HSHD_NUM  total_visits  total_transactions  total_spend  \\\n0         10           148                1419      8328.26   \n1         29             2                   6        19.95   \n2         53           152                1782      5317.14   \n3         54           237                2023      7266.36   \n4         60           518                7574     26982.27   \n5         81             7                   9        39.82   \n6         92             2                   8        29.07   \n7         99           204                3665     13586.72   \n8        115             2                  37       100.26   \n9        117           236                3414     17226.99   \n10       136           228                2229     13266.46   \n11       139             9                 170       668.88   \n12       151           271                1952      7870.96   \n13       159           198                2349      8419.41   \n14       160            95                 498      2217.89   \n15       172           119                1526      5020.64   \n16       183           254                4064     17464.45   \n17       184           189                1664      5203.84   \n18       185             2                   9        28.93   \n19       186             8                  61       188.10   \n20       196            53                1026      5140.24   \n21       210           188                3185     12137.92   \n22       225             1                  11        44.66   \n23       242           160                1092      5804.74   \n24       264             2                  15        54.55   \n25       308           635                5748     13337.27   \n26       361           332                1785      7080.11   \n27       401           235                4115     11715.37   \n28       422           145                1489      4591.51   \n29       428           183                1894      7124.54   \n\n    avg_units_per_txn last_purchase first_purchase  unique_products  \\\n0                  11    2020-05-12     2018-08-19              646   \n1                   3    2019-10-19     2019-03-10                6   \n2                  17    2020-05-13     2018-08-20              722   \n3                  14    2020-05-12     2018-08-20              998   \n4                  19    2020-05-16     2018-08-19             2052   \n5                   1    2020-05-04     2019-04-22                9   \n6                   7    2019-03-27     2018-10-30                7   \n7                  24    2020-05-09     2018-08-17             1120   \n8                  20    2019-08-08     2019-08-06               36   \n9                  18    2020-05-12     2018-08-17             1718   \n10                 11    2020-05-15     2018-08-17             1267   \n11                 27    2018-11-02     2018-09-01              122   \n12                  9    2020-05-15     2018-08-18             1055   \n13                 19    2020-05-12     2018-08-18             1320   \n14                  6    2020-03-04     2018-08-17              361   \n15                 21    2020-05-11     2018-08-17              611   \n16                 18    2020-05-13     2018-08-19             1652   \n17                  9    2020-03-23     2018-08-24              824   \n18                  4    2019-12-13     2018-11-23                9   \n19                 10    2020-03-22     2019-02-16               59   \n20                 24    2020-05-03     2018-08-27              598   \n21                 20    2020-05-14     2018-08-19             1176   \n22                 12    2019-07-27     2019-07-27               11   \n23                  9    2020-05-14     2018-08-17              307   \n24                 10    2019-10-22     2018-10-30               15   \n25                 10    2020-05-12     2018-08-17              846   \n26                  6    2020-05-15     2018-08-17              863   \n27                 22    2020-05-14     2018-08-21             1224   \n28                 11    2020-05-14     2018-08-19              974   \n29                 13    2020-05-15     2018-08-18              790   \n\n   INCOME_RANGE  HOMEOWNER  ...  AGE_35-44  AGE_45-54  AGE_55-64  AGE_65-74  \\\n0        35-49K  homeowner  ...          0          1          0          0   \n1      100-150K  homeowner  ...          0          0          1          0   \n2        50-74K  homeowner  ...          0          0          1          0   \n3     UNDER 35K  homeowner  ...          0          0          0          0   \n4        35-49K  homeowner  ...          0          1          0          0   \n5        50-74K  homeowner  ...          0          0          1          0   \n6        75-99K  homeowner  ...          0          0          1          0   \n7        75-99K  homeowner  ...          1          0          0          0   \n8        35-49K  homeowner  ...          1          0          0          0   \n9         150K+  homeowner  ...          0          1          0          0   \n10       50-74K  homeowner  ...          0          0          1          0   \n11       35-49K     renter  ...          0          0          1          0   \n12        150K+  homeowner  ...          0          1          0          0   \n13      UNKNOWN    unknown  ...          0          0          0          0   \n14     100-150K  homeowner  ...          0          1          0          0   \n15    UNDER 35K  homeowner  ...          0          0          0          0   \n16       50-74K  homeowner  ...          1          0          0          0   \n17       35-49K     renter  ...          0          0          1          0   \n18     100-150K  homeowner  ...          0          1          0          0   \n19     100-150K  homeowner  ...          0          1          0          0   \n20       50-74K     renter  ...          1          0          0          0   \n21      UNKNOWN    unknown  ...          0          0          0          0   \n22       35-49K  homeowner  ...          0          0          0          1   \n23       50-74K    unknown  ...          0          0          1          0   \n24    UNDER 35K  homeowner  ...          1          0          0          0   \n25       50-74K  homeowner  ...          0          0          0          1   \n26     100-150K  homeowner  ...          0          0          1          0   \n27       35-49K  homeowner  ...          0          0          1          0   \n28       50-74K  homeowner  ...          1          0          0          0   \n29       35-49K  homeowner  ...          0          0          0          0   \n\n    AGE_75+  AGE_unknown  MARITAL_single  MARITAL_unknown  \\\n0         0            0               1                0   \n1         0            0               0                0   \n2         0            0               0                0   \n3         1            0               0                0   \n4         0            0               0                0   \n5         0            0               0                0   \n6         0            0               0                0   \n7         0            0               0                0   \n8         0            0               0                0   \n9         0            0               1                0   \n10        0            0               0                0   \n11        0            0               1                0   \n12        0            0               1                0   \n13        0            1               0                1   \n14        0            0               0                0   \n15        1            0               1                0   \n16        0            0               1                0   \n17        0            0               0                0   \n18        0            0               0                0   \n19        0            0               0                0   \n20        0            0               0                0   \n21        0            1               0                1   \n22        0            0               1                0   \n23        0            0               1                0   \n24        0            0               0                1   \n25        0            0               1                0   \n26        0            0               0                0   \n27        0            0               1                0   \n28        0            0               1                0   \n29        1            0               0                0   \n\n    INCOME_RANGE_ENCODED  IS_HOMEOWNER  \n0                      1             1  \n1                      4             1  \n2                      2             1  \n3                      0             1  \n4                      1             1  \n5                      2             1  \n6                      3             1  \n7                      3             1  \n8                      1             1  \n9                      5             1  \n10                     2             1  \n11                     1             0  \n12                     5             1  \n13                    -1             0  \n14                     4             1  \n15                     0             1  \n16                     2             1  \n17                     1             0  \n18                     4             1  \n19                     4             1  \n20                     2             0  \n21                    -1             0  \n22                     1             1  \n23                     2             0  \n24                     0             1  \n25                     2             1  \n26                     4             1  \n27                     1             1  \n28                     2             1  \n29                     1             1  \n\n[30 rows x 24 columns]",
            "text/html": "<div>\n<style scoped>\n    .dataframe tbody tr th:only-of-type {\n        vertical-align: middle;\n    }\n\n    .dataframe tbody tr th {\n        vertical-align: top;\n    }\n\n    .dataframe thead th {\n        text-align: right;\n    }\n</style>\n<table border=\"1\" class=\"dataframe\">\n  <thead>\n    <tr style=\"text-align: right;\">\n      <th></th>\n      <th>HSHD_NUM</th>\n      <th>total_visits</th>\n      <th>total_transactions</th>\n      <th>total_spend</th>\n      <th>avg_units_per_txn</th>\n      <th>last_purchase</th>\n      <th>first_purchase</th>\n      <th>unique_products</th>\n      <th>INCOME_RANGE</th>\n      <th>HOMEOWNER</th>\n      <th>...</th>\n      <th>AGE_35-44</th>\n      <th>AGE_45-54</th>\n      <th>AGE_55-64</th>\n      <th>AGE_65-74</th>\n      <th>AGE_75+</th>\n      <th>AGE_unknown</th>\n      <th>MARITAL_single</th>\n      <th>MARITAL_unknown</th>\n      <th>INCOME_RANGE_ENCODED</th>\n      <th>IS_HOMEOWNER</th>\n    </tr>\n  </thead>\n  <tbody>\n    <tr>\n      <th>0</th>\n      <td>10</td>\n      <td>148</td>\n      <td>1419</td>\n      <td>8328.26</td>\n      <td>11</td>\n      <td>2020-05-12</td>\n      <td>2018-08-19</td>\n      <td>646</td>\n      <td>35-49K</td>\n      <td>homeowner</td>\n      <td>...</td>\n      <td>0</td>\n      <td>1</td>\n      <td>0</td>\n      <td>0</td>\n      <td>0</td>\n      <td>0</td>\n      <td>1</td>\n      <td>0</td>\n      <td>1</td>\n      <td>1</td>\n    </tr>\n    <tr>\n      <th>1</th>\n      <td>29</td>\n      <td>2</td>\n      <td>6</td>\n      <td>19.95</td>\n      <td>3</td>\n      <td>2019-10-19</td>\n      <td>2019-03-10</td>\n      <td>6</td>\n      <td>100-150K</td>\n      <td>homeowner</td>\n      <td>...</td>\n      <td>0</td>\n      <td>0</td>\n      <td>1</td>\n      <td>0</td>\n      <td>0</td>\n      <td>0</td>\n      <td>0</td>\n      <td>0</td>\n      <td>4</td>\n      <td>1</td>\n    </tr>\n    <tr>\n      <th>2</th>\n      <td>53</td>\n      <td>152</td>\n      <td>1782</td>\n      <td>5317.14</td>\n      <td>17</td>\n      <td>2020-05-13</td>\n      <td>2018-08-20</td>\n      <td>722</td>\n      <td>50-74K</td>\n      <td>homeowner</td>\n      <td>...</td>\n      <td>0</td>\n      <td>0</td>\n      <td>1</td>\n      <td>0</td>\n      <td>0</td>\n      <td>0</td>\n      <td>0</td>\n      <td>0</td>\n      <td>2</td>\n      <td>1</td>\n    </tr>\n    <tr>\n      <th>3</th>\n      <td>54</td>\n      <td>237</td>\n      <td>2023</td>\n      <td>7266.36</td>\n      <td>14</td>\n      <td>2020-05-12</td>\n      <td>2018-08-20</td>\n      <td>998</td>\n      <td>UNDER 35K</td>\n      <td>homeowner</td>\n      <td>...</td>\n      <td>0</td>\n      <td>0</td>\n      <td>0</td>\n      <td>0</td>\n      <td>1</td>\n      <td>0</td>\n      <td>0</td>\n      <td>0</td>\n      <td>0</td>\n      <td>1</td>\n    </tr>\n    <tr>\n      <th>4</th>\n      <td>60</td>\n      <td>518</td>\n      <td>7574</td>\n      <td>26982.27</td>\n      <td>19</td>\n      <td>2020-05-16</td>\n      <td>2018-08-19</td>\n      <td>2052</td>\n      <td>35-49K</td>\n      <td>homeowner</td>\n      <td>...</td>\n      <td>0</td>\n      <td>1</td>\n      <td>0</td>\n      <td>0</td>\n      <td>0</td>\n      <td>0</td>\n      <td>0</td>\n      <td>0</td>\n      <td>1</td>\n      <td>1</td>\n    </tr>\n    <tr>\n      <th>5</th>\n      <td>81</td>\n      <td>7</td>\n      <td>9</td>\n      <td>39.82</td>\n      <td>1</td>\n      <td>2020-05-04</td>\n      <td>2019-04-22</td>\n      <td>9</td>\n      <td>50-74K</td>\n      <td>homeowner</td>\n      <td>...</td>\n      <td>0</td>\n      <td>0</td>\n      <td>1</td>\n      <td>0</td>\n      <td>0</td>\n      <td>0</td>\n      <td>0</td>\n      <td>0</td>\n      <td>2</td>\n      <td>1</td>\n    </tr>\n    <tr>\n      <th>6</th>\n      <td>92</td>\n      <td>2</td>\n      <td>8</td>\n      <td>29.07</td>\n      <td>7</td>\n      <td>2019-03-27</td>\n      <td>2018-10-30</td>\n      <td>7</td>\n      <td>75-99K</td>\n      <td>homeowner</td>\n      <td>...</td>\n      <td>0</td>\n      <td>0</td>\n      <td>1</td>\n      <td>0</td>\n      <td>0</td>\n      <td>0</td>\n      <td>0</td>\n      <td>0</td>\n      <td>3</td>\n      <td>1</td>\n    </tr>\n    <tr>\n      <th>7</th>\n      <td>99</td>\n      <td>204</td>\n      <td>3665</td>\n      <td>13586.72</td>\n      <td>24</td>\n      <td>2020-05-09</td>\n      <td>2018-08-17</td>\n      <td>1120</td>\n      <td>75-99K</td>\n      <td>homeowner</td>\n      <td>...</td>\n      <td>1</td>\n      <td>0</td>\n      <td>0</td>\n      <td>0</td>\n      <td>0</td>\n      <td>0</td>\n      <td>0</td>\n      <td>0</td>\n      <td>3</td>\n      <td>1</td>\n    </tr>\n    <tr>\n      <th>8</th>\n      <td>115</td>\n      <td>2</td>\n      <td>37</td>\n      <td>100.26</td>\n      <td>20</td>\n      <td>2019-08-08</td>\n      <td>2019-08-06</td>\n      <td>36</td>\n      <td>35-49K</td>\n      <td>homeowner</td>\n      <td>...</td>\n      <td>1</td>\n      <td>0</td>\n      <td>0</td>\n      <td>0</td>\n      <td>0</td>\n      <td>0</td>\n      <td>0</td>\n      <td>0</td>\n      <td>1</td>\n      <td>1</td>\n    </tr>\n    <tr>\n      <th>9</th>\n      <td>117</td>\n      <td>236</td>\n      <td>3414</td>\n      <td>17226.99</td>\n      <td>18</td>\n      <td>2020-05-12</td>\n      <td>2018-08-17</td>\n      <td>1718</td>\n      <td>150K+</td>\n      <td>homeowner</td>\n      <td>...</td>\n      <td>0</td>\n      <td>1</td>\n      <td>0</td>\n      <td>0</td>\n      <td>0</td>\n      <td>0</td>\n      <td>1</td>\n      <td>0</td>\n      <td>5</td>\n      <td>1</td>\n    </tr>\n    <tr>\n      <th>10</th>\n      <td>136</td>\n      <td>228</td>\n      <td>2229</td>\n      <td>13266.46</td>\n      <td>11</td>\n      <td>2020-05-15</td>\n      <td>2018-08-17</td>\n      <td>1267</td>\n      <td>50-74K</td>\n      <td>homeowner</td>\n      <td>...</td>\n      <td>0</td>\n      <td>0</td>\n      <td>1</td>\n      <td>0</td>\n      <td>0</td>\n      <td>0</td>\n      <td>0</td>\n      <td>0</td>\n      <td>2</td>\n      <td>1</td>\n    </tr>\n    <tr>\n      <th>11</th>\n      <td>139</td>\n      <td>9</td>\n      <td>170</td>\n      <td>668.88</td>\n      <td>27</td>\n      <td>2018-11-02</td>\n      <td>2018-09-01</td>\n      <td>122</td>\n      <td>35-49K</td>\n      <td>renter</td>\n      <td>...</td>\n      <td>0</td>\n      <td>0</td>\n      <td>1</td>\n      <td>0</td>\n      <td>0</td>\n      <td>0</td>\n      <td>1</td>\n      <td>0</td>\n      <td>1</td>\n      <td>0</td>\n    </tr>\n    <tr>\n      <th>12</th>\n      <td>151</td>\n      <td>271</td>\n      <td>1952</td>\n      <td>7870.96</td>\n      <td>9</td>\n      <td>2020-05-15</td>\n      <td>2018-08-18</td>\n      <td>1055</td>\n      <td>150K+</td>\n      <td>homeowner</td>\n      <td>...</td>\n      <td>0</td>\n      <td>1</td>\n      <td>0</td>\n      <td>0</td>\n      <td>0</td>\n      <td>0</td>\n      <td>1</td>\n      <td>0</td>\n      <td>5</td>\n      <td>1</td>\n    </tr>\n    <tr>\n      <th>13</th>\n      <td>159</td>\n      <td>198</td>\n      <td>2349</td>\n      <td>8419.41</td>\n      <td>19</td>\n      <td>2020-05-12</td>\n      <td>2018-08-18</td>\n      <td>1320</td>\n      <td>UNKNOWN</td>\n      <td>unknown</td>\n      <td>...</td>\n      <td>0</td>\n      <td>0</td>\n      <td>0</td>\n      <td>0</td>\n      <td>0</td>\n      <td>1</td>\n      <td>0</td>\n      <td>1</td>\n      <td>-1</td>\n      <td>0</td>\n    </tr>\n    <tr>\n      <th>14</th>\n      <td>160</td>\n      <td>95</td>\n      <td>498</td>\n      <td>2217.89</td>\n      <td>6</td>\n      <td>2020-03-04</td>\n      <td>2018-08-17</td>\n      <td>361</td>\n      <td>100-150K</td>\n      <td>homeowner</td>\n      <td>...</td>\n      <td>0</td>\n      <td>1</td>\n      <td>0</td>\n      <td>0</td>\n      <td>0</td>\n      <td>0</td>\n      <td>0</td>\n      <td>0</td>\n      <td>4</td>\n      <td>1</td>\n    </tr>\n    <tr>\n      <th>15</th>\n      <td>172</td>\n      <td>119</td>\n      <td>1526</td>\n      <td>5020.64</td>\n      <td>21</td>\n      <td>2020-05-11</td>\n      <td>2018-08-17</td>\n      <td>611</td>\n      <td>UNDER 35K</td>\n      <td>homeowner</td>\n      <td>...</td>\n      <td>0</td>\n      <td>0</td>\n      <td>0</td>\n      <td>0</td>\n      <td>1</td>\n      <td>0</td>\n      <td>1</td>\n      <td>0</td>\n      <td>0</td>\n      <td>1</td>\n    </tr>\n    <tr>\n      <th>16</th>\n      <td>183</td>\n      <td>254</td>\n      <td>4064</td>\n      <td>17464.45</td>\n      <td>18</td>\n      <td>2020-05-13</td>\n      <td>2018-08-19</td>\n      <td>1652</td>\n      <td>50-74K</td>\n      <td>homeowner</td>\n      <td>...</td>\n      <td>1</td>\n      <td>0</td>\n      <td>0</td>\n      <td>0</td>\n      <td>0</td>\n      <td>0</td>\n      <td>1</td>\n      <td>0</td>\n      <td>2</td>\n      <td>1</td>\n    </tr>\n    <tr>\n      <th>17</th>\n      <td>184</td>\n      <td>189</td>\n      <td>1664</td>\n      <td>5203.84</td>\n      <td>9</td>\n      <td>2020-03-23</td>\n      <td>2018-08-24</td>\n      <td>824</td>\n      <td>35-49K</td>\n      <td>renter</td>\n      <td>...</td>\n      <td>0</td>\n      <td>0</td>\n      <td>1</td>\n      <td>0</td>\n      <td>0</td>\n      <td>0</td>\n      <td>0</td>\n      <td>0</td>\n      <td>1</td>\n      <td>0</td>\n    </tr>\n    <tr>\n      <th>18</th>\n      <td>185</td>\n      <td>2</td>\n      <td>9</td>\n      <td>28.93</td>\n      <td>4</td>\n      <td>2019-12-13</td>\n      <td>2018-11-23</td>\n      <td>9</td>\n      <td>100-150K</td>\n      <td>homeowner</td>\n      <td>...</td>\n      <td>0</td>\n      <td>1</td>\n      <td>0</td>\n      <td>0</td>\n      <td>0</td>\n      <td>0</td>\n      <td>0</td>\n      <td>0</td>\n      <td>4</td>\n      <td>1</td>\n    </tr>\n    <tr>\n      <th>19</th>\n      <td>186</td>\n      <td>8</td>\n      <td>61</td>\n      <td>188.10</td>\n      <td>10</td>\n      <td>2020-03-22</td>\n      <td>2019-02-16</td>\n      <td>59</td>\n      <td>100-150K</td>\n      <td>homeowner</td>\n      <td>...</td>\n      <td>0</td>\n      <td>1</td>\n      <td>0</td>\n      <td>0</td>\n      <td>0</td>\n      <td>0</td>\n      <td>0</td>\n      <td>0</td>\n      <td>4</td>\n      <td>1</td>\n    </tr>\n    <tr>\n      <th>20</th>\n      <td>196</td>\n      <td>53</td>\n      <td>1026</td>\n      <td>5140.24</td>\n      <td>24</td>\n      <td>2020-05-03</td>\n      <td>2018-08-27</td>\n      <td>598</td>\n      <td>50-74K</td>\n      <td>renter</td>\n      <td>...</td>\n      <td>1</td>\n      <td>0</td>\n      <td>0</td>\n      <td>0</td>\n      <td>0</td>\n      <td>0</td>\n      <td>0</td>\n      <td>0</td>\n      <td>2</td>\n      <td>0</td>\n    </tr>\n    <tr>\n      <th>21</th>\n      <td>210</td>\n      <td>188</td>\n      <td>3185</td>\n      <td>12137.92</td>\n      <td>20</td>\n      <td>2020-05-14</td>\n      <td>2018-08-19</td>\n      <td>1176</td>\n      <td>UNKNOWN</td>\n      <td>unknown</td>\n      <td>...</td>\n      <td>0</td>\n      <td>0</td>\n      <td>0</td>\n      <td>0</td>\n      <td>0</td>\n      <td>1</td>\n      <td>0</td>\n      <td>1</td>\n      <td>-1</td>\n      <td>0</td>\n    </tr>\n    <tr>\n      <th>22</th>\n      <td>225</td>\n      <td>1</td>\n      <td>11</td>\n      <td>44.66</td>\n      <td>12</td>\n      <td>2019-07-27</td>\n      <td>2019-07-27</td>\n      <td>11</td>\n      <td>35-49K</td>\n      <td>homeowner</td>\n      <td>...</td>\n      <td>0</td>\n      <td>0</td>\n      <td>0</td>\n      <td>1</td>\n      <td>0</td>\n      <td>0</td>\n      <td>1</td>\n      <td>0</td>\n      <td>1</td>\n      <td>1</td>\n    </tr>\n    <tr>\n      <th>23</th>\n      <td>242</td>\n      <td>160</td>\n      <td>1092</td>\n      <td>5804.74</td>\n      <td>9</td>\n      <td>2020-05-14</td>\n      <td>2018-08-17</td>\n      <td>307</td>\n      <td>50-74K</td>\n      <td>unknown</td>\n      <td>...</td>\n      <td>0</td>\n      <td>0</td>\n      <td>1</td>\n      <td>0</td>\n      <td>0</td>\n      <td>0</td>\n      <td>1</td>\n      <td>0</td>\n      <td>2</td>\n      <td>0</td>\n    </tr>\n    <tr>\n      <th>24</th>\n      <td>264</td>\n      <td>2</td>\n      <td>15</td>\n      <td>54.55</td>\n      <td>10</td>\n      <td>2019-10-22</td>\n      <td>2018-10-30</td>\n      <td>15</td>\n      <td>UNDER 35K</td>\n      <td>homeowner</td>\n      <td>...</td>\n      <td>1</td>\n      <td>0</td>\n      <td>0</td>\n      <td>0</td>\n      <td>0</td>\n      <td>0</td>\n      <td>0</td>\n      <td>1</td>\n      <td>0</td>\n      <td>1</td>\n    </tr>\n    <tr>\n      <th>25</th>\n      <td>308</td>\n      <td>635</td>\n      <td>5748</td>\n      <td>13337.27</td>\n      <td>10</td>\n      <td>2020-05-12</td>\n      <td>2018-08-17</td>\n      <td>846</td>\n      <td>50-74K</td>\n      <td>homeowner</td>\n      <td>...</td>\n      <td>0</td>\n      <td>0</td>\n      <td>0</td>\n      <td>1</td>\n      <td>0</td>\n      <td>0</td>\n      <td>1</td>\n      <td>0</td>\n      <td>2</td>\n      <td>1</td>\n    </tr>\n    <tr>\n      <th>26</th>\n      <td>361</td>\n      <td>332</td>\n      <td>1785</td>\n      <td>7080.11</td>\n      <td>6</td>\n      <td>2020-05-15</td>\n      <td>2018-08-17</td>\n      <td>863</td>\n      <td>100-150K</td>\n      <td>homeowner</td>\n      <td>...</td>\n      <td>0</td>\n      <td>0</td>\n      <td>1</td>\n      <td>0</td>\n      <td>0</td>\n      <td>0</td>\n      <td>0</td>\n      <td>0</td>\n      <td>4</td>\n      <td>1</td>\n    </tr>\n    <tr>\n      <th>27</th>\n      <td>401</td>\n      <td>235</td>\n      <td>4115</td>\n      <td>11715.37</td>\n      <td>22</td>\n      <td>2020-05-14</td>\n      <td>2018-08-21</td>\n      <td>1224</td>\n      <td>35-49K</td>\n      <td>homeowner</td>\n      <td>...</td>\n      <td>0</td>\n      <td>0</td>\n      <td>1</td>\n      <td>0</td>\n      <td>0</td>\n      <td>0</td>\n      <td>1</td>\n      <td>0</td>\n      <td>1</td>\n      <td>1</td>\n    </tr>\n    <tr>\n      <th>28</th>\n      <td>422</td>\n      <td>145</td>\n      <td>1489</td>\n      <td>4591.51</td>\n      <td>11</td>\n      <td>2020-05-14</td>\n      <td>2018-08-19</td>\n      <td>974</td>\n      <td>50-74K</td>\n      <td>homeowner</td>\n      <td>...</td>\n      <td>1</td>\n      <td>0</td>\n      <td>0</td>\n      <td>0</td>\n      <td>0</td>\n      <td>0</td>\n      <td>1</td>\n      <td>0</td>\n      <td>2</td>\n      <td>1</td>\n    </tr>\n    <tr>\n      <th>29</th>\n      <td>428</td>\n      <td>183</td>\n      <td>1894</td>\n      <td>7124.54</td>\n      <td>13</td>\n      <td>2020-05-15</td>\n      <td>2018-08-18</td>\n      <td>790</td>\n      <td>35-49K</td>\n      <td>homeowner</td>\n      <td>...</td>\n      <td>0</td>\n      <td>0</td>\n      <td>0</td>\n      <td>0</td>\n      <td>1</td>\n      <td>0</td>\n      <td>0</td>\n      <td>0</td>\n      <td>1</td>\n      <td>1</td>\n    </tr>\n  </tbody>\n</table>\n<p>30 rows × 24 columns</p>\n</div>"
          },
          "metadata": {}
        }
      ],
      "execution_count": 24,
      "metadata": {
        "gather": {
          "logged": 1745697020221
        }
      }
    },
    {
      "cell_type": "code",
      "source": [
        "df['CHILDREN'].describe()\n"
      ],
      "outputs": [
        {
          "output_type": "execute_result",
          "execution_count": 25,
          "data": {
            "text/plain": "count    396.000000\nmean       1.295455\nstd        0.656866\nmin        1.000000\n25%        1.000000\n50%        1.000000\n75%        1.000000\nmax        3.000000\nName: CHILDREN, dtype: float64"
          },
          "metadata": {}
        }
      ],
      "execution_count": 25,
      "metadata": {
        "gather": {
          "logged": 1745697020525
        }
      }
    },
    {
      "cell_type": "code",
      "source": [
        "X = df.drop(columns=[\n",
        "    'HSHD_NUM',\n",
        "    'INCOME_RANGE',    # string version\n",
        "    'HOMEOWNER',       # string version\n",
        "    'last_purchase',   # dates not needed for now\n",
        "    'first_purchase',  # same here\n",
        "    'churned'          # this is our target\n",
        "])\n",
        "y = df['churned']\n"
      ],
      "outputs": [],
      "execution_count": 26,
      "metadata": {
        "gather": {
          "logged": 1745697020859
        }
      }
    },
    {
      "cell_type": "markdown",
      "source": [
        "# 🧼 Churn Model Data Cleaning Documentation\n",
        "\n",
        "This markdown file documents the cleaning and encoding steps taken for each column in the churn prediction dataset.\n",
        "\n",
        "---\n",
        "\n",
        "## Columns We Preprocessed\n",
        "\n",
        "### 1. `AGE_RANGE`\n",
        "- **Issue**: Stored as strings (e.g., '25-34', '45-54'), including some nulls.\n",
        "- **Action**:\n",
        "  - Converted all entries to lowercase strings.\n",
        "  - Replaced `'null'`, `'nan'`, etc., with `'unknown'`.\n",
        "  - One-hot encoded into dummy variables (`AGE_35-44`, `AGE_45-54`, etc.), dropping the first to avoid multicollinearity.\n",
        "\n",
        "### 2. `MARITAL`\n",
        "- **Issue**: Categorical string values like `'Married'`, `'Single'`, and `'null'`.\n",
        "- **Action**:\n",
        "  - Cleaned and standardized strings.\n",
        "  - Replaced invalid/missing values with `'unknown'`.\n",
        "  - One-hot encoded (`MARITAL_single`, `MARITAL_unknown`), dropping `married` as baseline.\n",
        "\n",
        "### 3. `INCOME_RANGE`\n",
        "- **Issue**: Ordinal categories stored as strings, including `'null'`.\n",
        "- **Action**:\n",
        "  - Standardized strings and replaced nulls with `'UNKNOWN'`.\n",
        "  - Ordinal-encoded with custom mapping:\n",
        "    ```\n",
        "    {\n",
        "        'UNDER 35K': 0,\n",
        "        '35-49K': 1,\n",
        "        '50-74K': 2,\n",
        "        '75-99K': 3,\n",
        "        '100-150K': 4,\n",
        "        '150K+': 5,\n",
        "        'UNKNOWN': -1\n",
        "    }\n",
        "    ```\n",
        "  - Saved as `INCOME_RANGE_ENCODED`\n",
        "\n",
        "### 4. `HOMEOWNER`\n",
        "- **Issue**: Binary categorical string (e.g., `'homeowner'`, `'renter'`, `'null'`)\n",
        "- **Action**:\n",
        "  - Normalized strings and replaced nulls with `'unknown'`\n",
        "  - Created `IS_HOMEOWNER`: 1 if homeowner, 0 otherwise\n",
        "\n",
        "### 5. `HH_SIZE`\n",
        "- **Issue**: String values like `'1'`, `'2'`, `'5+'`, and `'null'`\n",
        "- **Action**:\n",
        "  - Replaced `'5+'` with 5, `'null'` with `NaN`\n",
        "  - Converted to numeric and filled missing values with the median\n",
        "\n",
        "### 6. `CHILDREN`\n",
        "- **Issue**: String values like `'0'`, `'1'`, `'3+'`, and `'null'`\n",
        "- **Action**:\n",
        "  - Replaced `'3+'` with 3, `'null'` with `NaN`\n",
        "  - Converted to numeric and filled missing with median\n",
        "\n",
        "---\n",
        "\n",
        "## Notes\n",
        "- All non-numeric, non-engineered columns like `INCOME_RANGE`, `HOMEOWNER`, `AGE_RANGE`, and `MARITAL` were dropped before modeling.\n",
        "- The final dataset includes both original numeric features and engineered ones (like `IS_HOMEOWNER`, `INCOME_RANGE_ENCODED`, and dummy variables for categorical features).\n",
        "\n",
        "This cleaning process ensures compatibility with machine learning models, improves feature quality, and preserves meaningful signals across all household records.\n"
      ],
      "metadata": {
        "nteract": {
          "transient": {
            "deleting": false
          }
        }
      }
    },
    {
      "cell_type": "code",
      "source": [
        "from sklearn.model_selection import train_test_split\n",
        "\n",
        "X_train, X_test, y_train, y_test = train_test_split(\n",
        "    X, y, test_size=0.3, random_state=42, stratify=y\n",
        ")\n"
      ],
      "outputs": [],
      "execution_count": 27,
      "metadata": {
        "gather": {
          "logged": 1745697021133
        }
      }
    },
    {
      "cell_type": "code",
      "source": [
        "from sklearn.ensemble import RandomForestClassifier\n",
        "from sklearn.metrics import classification_report, confusion_matrix\n",
        "\n",
        "# Initialize model\n",
        "model = RandomForestClassifier(random_state=42)\n",
        "\n",
        "# Train it\n",
        "model.fit(X_train, y_train)\n",
        "\n",
        "# Predict on test set\n",
        "y_pred = model.predict(X_test)\n",
        "\n",
        "# Evaluate\n",
        "print(confusion_matrix(y_test, y_pred))\n",
        "print(classification_report(y_test, y_pred))\n"
      ],
      "outputs": [
        {
          "output_type": "stream",
          "name": "stdout",
          "text": "[[96  4]\n [ 2 17]]\n              precision    recall  f1-score   support\n\n           0       0.98      0.96      0.97       100\n           1       0.81      0.89      0.85        19\n\n    accuracy                           0.95       119\n   macro avg       0.89      0.93      0.91       119\nweighted avg       0.95      0.95      0.95       119\n\n"
        }
      ],
      "execution_count": 28,
      "metadata": {
        "gather": {
          "logged": 1745697021908
        }
      }
    },
    {
      "cell_type": "code",
      "source": [
        "import matplotlib.pyplot as plt\n",
        "import seaborn as sns\n",
        "\n",
        "# Get feature importances\n",
        "importances = model.feature_importances_\n",
        "feature_names = X.columns\n",
        "importance_df = pd.DataFrame({'feature': feature_names, 'importance': importances})\n",
        "importance_df = importance_df.sort_values(by='importance', ascending=False)\n",
        "\n",
        "# Plot\n",
        "plt.figure(figsize=(10, 6))\n",
        "sns.barplot(data=importance_df.head(10), x='importance', y='feature')\n",
        "plt.title('Top 10 Feature Importances for Churn Prediction')\n",
        "plt.show()\n"
      ],
      "outputs": [
        {
          "output_type": "display_data",
          "data": {
            "text/plain": "<Figure size 1000x600 with 1 Axes>",
            "image/png": "[encoded data removed]"
          },
          "metadata": {}
        }
      ],
      "execution_count": 29,
      "metadata": {
        "gather": {
          "logged": 1745697024774
        }
      }
    },
    {
      "cell_type": "code",
      "source": [
        "df.to_sql(\n",
        "    name='churn_model_data',\n",
        "    con=engine,\n",
        "    if_exists='replace',\n",
        "    index=False\n",
        ")\n"
      ],
      "outputs": [
        {
          "output_type": "execute_result",
          "execution_count": 30,
          "data": {
            "text/plain": "396"
          },
          "metadata": {}
        }
      ],
      "execution_count": 30,
      "metadata": {
        "gather": {
          "logged": 1745697025721
        }
      }
    },
    {
      "cell_type": "code",
      "source": [
        "# Example for Churn DataFrame\n",
        "df.to_json('churn_data.json', orient='records', lines=False)\n"
      ],
      "outputs": [],
      "execution_count": 32,
      "metadata": {
        "gather": {
          "logged": 1745697036723
        }
      }
    }
  ],
  "metadata": {
    "kernelspec": {
      "name": "python38-azureml",
      "language": "python",
      "display_name": "Python 3.8 - AzureML"
    },
    "language_info": {
      "name": "python",
      "version": "3.10.16",
      "mimetype": "text/x-python",
      "codemirror_mode": {
        "name": "ipython",
        "version": 3
      },
      "pygments_lexer": "ipython3",
      "nbconvert_exporter": "python",
      "file_extension": ".py"
    },
    "microsoft": {
      "ms_spell_check": {
        "ms_spell_check_language": "en"
      },
      "host": {
        "AzureML": {
          "notebookHasBeenCompleted": true
        }
      }
    },
    "kernel_info": {
      "name": "python38-azureml"
    },
    "nteract": {
      "version": "nteract-front-end@1.0.0"
    }
  },
  "nbformat": 4,
  "nbformat_minor": 2
}
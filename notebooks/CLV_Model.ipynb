{
 "cells": [
  {
   "cell_type": "code",
   "execution_count": 2,
   "id": "e41c4e0e-1fc4-4794-8fc5-fb088200bd39",
   "metadata": {
    "tags": []
   },
   "outputs": [
    {
     "ename": "TypeError",
     "evalue": "_DatastoreClient.register_azure_sql_database() got an unexpected keyword argument 'port'",
     "output_type": "error",
     "traceback": [
      "\u001b[0;31m---------------------------------------------------------------------------\u001b[0m",
      "\u001b[0;31mTypeError\u001b[0m                                 Traceback (most recent call last)",
      "Cell \u001b[0;32mIn[2], line 7\u001b[0m\n\u001b[1;32m      4\u001b[0m ws \u001b[38;5;241m=\u001b[39m Workspace\u001b[38;5;241m.\u001b[39mfrom_config()\n\u001b[1;32m      6\u001b[0m \u001b[38;5;66;03m# register the SQL server as a datastore (note 'username', not 'user_name')\u001b[39;00m\n\u001b[0;32m----> 7\u001b[0m sql_ds \u001b[38;5;241m=\u001b[39m \u001b[43mDatastore\u001b[49m\u001b[38;5;241;43m.\u001b[39;49m\u001b[43mregister_azure_sql_database\u001b[49m\u001b[43m(\u001b[49m\n\u001b[1;32m      8\u001b[0m \u001b[43m    \u001b[49m\u001b[43mworkspace\u001b[49m\u001b[38;5;241;43m=\u001b[39;49m\u001b[43mws\u001b[49m\u001b[43m,\u001b[49m\n\u001b[1;32m      9\u001b[0m \u001b[43m    \u001b[49m\u001b[43mdatastore_name\u001b[49m\u001b[38;5;241;43m=\u001b[39;49m\u001b[38;5;124;43m\"\u001b[39;49m\u001b[38;5;124;43mclv_sql_ds\u001b[39;49m\u001b[38;5;124;43m\"\u001b[39;49m\u001b[43m,\u001b[49m\u001b[43m                   \u001b[49m\n\u001b[1;32m     10\u001b[0m \u001b[43m    \u001b[49m\u001b[43mserver_name\u001b[49m\u001b[38;5;241;43m=\u001b[39;49m\u001b[38;5;124;43m\"\u001b[39;49m\u001b[38;5;124;43mcs5165-server.database.windows.net\u001b[39;49m\u001b[38;5;124;43m\"\u001b[39;49m\u001b[43m,\u001b[49m\n\u001b[1;32m     11\u001b[0m \u001b[43m    \u001b[49m\u001b[43mdatabase_name\u001b[49m\u001b[38;5;241;43m=\u001b[39;49m\u001b[38;5;124;43m\"\u001b[39;49m\u001b[38;5;124;43mcs5165-database\u001b[39;49m\u001b[38;5;124;43m\"\u001b[39;49m\u001b[43m,\u001b[49m\n\u001b[1;32m     12\u001b[0m \u001b[43m    \u001b[49m\u001b[43musername\u001b[49m\u001b[38;5;241;43m=\u001b[39;49m\u001b[38;5;124;43m\"\u001b[39;49m\u001b[38;5;124;43mprestonisawesome\u001b[39;49m\u001b[38;5;124;43m\"\u001b[39;49m\u001b[43m,\u001b[49m\n\u001b[1;32m     13\u001b[0m \u001b[43m    \u001b[49m\u001b[43mpassword\u001b[49m\u001b[38;5;241;43m=\u001b[39;49m\u001b[38;5;124;43m\"\u001b[39;49m\u001b[38;5;124;43mPassword123!\u001b[39;49m\u001b[38;5;124;43m\"\u001b[39;49m\u001b[43m,\u001b[49m\n\u001b[1;32m     14\u001b[0m \u001b[43m    \u001b[49m\u001b[43mport\u001b[49m\u001b[38;5;241;43m=\u001b[39;49m\u001b[38;5;241;43m1433\u001b[39;49m\u001b[43m,\u001b[49m\n\u001b[1;32m     15\u001b[0m \u001b[43m    \u001b[49m\u001b[43mdriver\u001b[49m\u001b[38;5;241;43m=\u001b[39;49m\u001b[38;5;124;43m\"\u001b[39;49m\u001b[38;5;124;43m{\u001b[39;49m\u001b[38;5;124;43mODBC Driver 17 for SQL Server}\u001b[39;49m\u001b[38;5;124;43m\"\u001b[39;49m\n\u001b[1;32m     16\u001b[0m \u001b[43m)\u001b[49m\n\u001b[1;32m     18\u001b[0m \u001b[38;5;28mprint\u001b[39m(\u001b[38;5;124mf\u001b[39m\u001b[38;5;124m\"\u001b[39m\u001b[38;5;124mDatastore registered: \u001b[39m\u001b[38;5;132;01m{\u001b[39;00msql_ds\u001b[38;5;241m.\u001b[39mname\u001b[38;5;132;01m}\u001b[39;00m\u001b[38;5;124m\"\u001b[39m)\n",
      "File \u001b[0;32m/anaconda/envs/azureml_py38/lib/python3.10/site-packages/azureml/core/datastore.py:574\u001b[0m, in \u001b[0;36mDatastore.register_azure_sql_database\u001b[0;34m(workspace, datastore_name, server_name, database_name, tenant_id, client_id, client_secret, resource_url, authority_url, endpoint, overwrite, username, password, subscription_id, resource_group, grant_workspace_access, **kwargs)\u001b[0m\n\u001b[1;32m    483\u001b[0m \u001b[38;5;129m@staticmethod\u001b[39m\n\u001b[1;32m    484\u001b[0m \u001b[38;5;28;01mdef\u001b[39;00m\u001b[38;5;250m \u001b[39m\u001b[38;5;21mregister_azure_sql_database\u001b[39m(workspace, datastore_name, server_name, database_name, tenant_id\u001b[38;5;241m=\u001b[39m\u001b[38;5;28;01mNone\u001b[39;00m,\n\u001b[1;32m    485\u001b[0m                                 client_id\u001b[38;5;241m=\u001b[39m\u001b[38;5;28;01mNone\u001b[39;00m, client_secret\u001b[38;5;241m=\u001b[39m\u001b[38;5;28;01mNone\u001b[39;00m, resource_url\u001b[38;5;241m=\u001b[39m\u001b[38;5;28;01mNone\u001b[39;00m, authority_url\u001b[38;5;241m=\u001b[39m\u001b[38;5;28;01mNone\u001b[39;00m,\n\u001b[1;32m    486\u001b[0m                                 endpoint\u001b[38;5;241m=\u001b[39m\u001b[38;5;28;01mNone\u001b[39;00m, overwrite\u001b[38;5;241m=\u001b[39m\u001b[38;5;28;01mFalse\u001b[39;00m, username\u001b[38;5;241m=\u001b[39m\u001b[38;5;28;01mNone\u001b[39;00m, password\u001b[38;5;241m=\u001b[39m\u001b[38;5;28;01mNone\u001b[39;00m, subscription_id\u001b[38;5;241m=\u001b[39m\u001b[38;5;28;01mNone\u001b[39;00m,\n\u001b[1;32m    487\u001b[0m                                 resource_group\u001b[38;5;241m=\u001b[39m\u001b[38;5;28;01mNone\u001b[39;00m, grant_workspace_access\u001b[38;5;241m=\u001b[39m\u001b[38;5;28;01mFalse\u001b[39;00m, \u001b[38;5;241m*\u001b[39m\u001b[38;5;241m*\u001b[39mkwargs):\n\u001b[1;32m    488\u001b[0m \u001b[38;5;250m    \u001b[39m\u001b[38;5;124;03m\"\"\"Initialize a new Azure SQL database Datastore.\u001b[39;00m\n\u001b[1;32m    489\u001b[0m \n\u001b[1;32m    490\u001b[0m \u001b[38;5;124;03m    Credential based (GA) and identity based (Preview) data access are supported,\u001b[39;00m\n\u001b[0;32m   (...)\u001b[0m\n\u001b[1;32m    572\u001b[0m \u001b[38;5;124;03m    :rtype: azureml.data.azure_sql_database_datastore.AzureSqlDatabaseDatastore\u001b[39;00m\n\u001b[1;32m    573\u001b[0m \u001b[38;5;124;03m    \"\"\"\u001b[39;00m\n\u001b[0;32m--> 574\u001b[0m     \u001b[38;5;28;01mreturn\u001b[39;00m \u001b[43mDatastore\u001b[49m\u001b[38;5;241;43m.\u001b[39;49m\u001b[43m_client\u001b[49m\u001b[43m(\u001b[49m\u001b[43m)\u001b[49m\u001b[38;5;241;43m.\u001b[39;49m\u001b[43mregister_azure_sql_database\u001b[49m\u001b[43m(\u001b[49m\n\u001b[1;32m    575\u001b[0m \u001b[43m        \u001b[49m\u001b[43mworkspace\u001b[49m\u001b[38;5;241;43m=\u001b[39;49m\u001b[43mworkspace\u001b[49m\u001b[43m,\u001b[49m\n\u001b[1;32m    576\u001b[0m \u001b[43m        \u001b[49m\u001b[43mdatastore_name\u001b[49m\u001b[38;5;241;43m=\u001b[39;49m\u001b[43mdatastore_name\u001b[49m\u001b[43m,\u001b[49m\n\u001b[1;32m    577\u001b[0m \u001b[43m        \u001b[49m\u001b[43mserver_name\u001b[49m\u001b[38;5;241;43m=\u001b[39;49m\u001b[43mserver_name\u001b[49m\u001b[43m,\u001b[49m\n\u001b[1;32m    578\u001b[0m \u001b[43m        \u001b[49m\u001b[43mdatabase_name\u001b[49m\u001b[38;5;241;43m=\u001b[39;49m\u001b[43mdatabase_name\u001b[49m\u001b[43m,\u001b[49m\n\u001b[1;32m    579\u001b[0m \u001b[43m        \u001b[49m\u001b[43mtenant_id\u001b[49m\u001b[38;5;241;43m=\u001b[39;49m\u001b[43mtenant_id\u001b[49m\u001b[43m,\u001b[49m\n\u001b[1;32m    580\u001b[0m \u001b[43m        \u001b[49m\u001b[43mclient_id\u001b[49m\u001b[38;5;241;43m=\u001b[39;49m\u001b[43mclient_id\u001b[49m\u001b[43m,\u001b[49m\n\u001b[1;32m    581\u001b[0m \u001b[43m        \u001b[49m\u001b[43mclient_secret\u001b[49m\u001b[38;5;241;43m=\u001b[39;49m\u001b[43mclient_secret\u001b[49m\u001b[43m,\u001b[49m\n\u001b[1;32m    582\u001b[0m \u001b[43m        \u001b[49m\u001b[43mresource_url\u001b[49m\u001b[38;5;241;43m=\u001b[39;49m\u001b[43mresource_url\u001b[49m\u001b[43m,\u001b[49m\n\u001b[1;32m    583\u001b[0m \u001b[43m        \u001b[49m\u001b[43mauthority_url\u001b[49m\u001b[38;5;241;43m=\u001b[39;49m\u001b[43mauthority_url\u001b[49m\u001b[43m,\u001b[49m\n\u001b[1;32m    584\u001b[0m \u001b[43m        \u001b[49m\u001b[43mendpoint\u001b[49m\u001b[38;5;241;43m=\u001b[39;49m\u001b[43mendpoint\u001b[49m\u001b[43m,\u001b[49m\n\u001b[1;32m    585\u001b[0m \u001b[43m        \u001b[49m\u001b[43moverwrite\u001b[49m\u001b[38;5;241;43m=\u001b[39;49m\u001b[43moverwrite\u001b[49m\u001b[43m,\u001b[49m\n\u001b[1;32m    586\u001b[0m \u001b[43m        \u001b[49m\u001b[43musername\u001b[49m\u001b[38;5;241;43m=\u001b[39;49m\u001b[43musername\u001b[49m\u001b[43m,\u001b[49m\n\u001b[1;32m    587\u001b[0m \u001b[43m        \u001b[49m\u001b[43mpassword\u001b[49m\u001b[38;5;241;43m=\u001b[39;49m\u001b[43mpassword\u001b[49m\u001b[43m,\u001b[49m\n\u001b[1;32m    588\u001b[0m \u001b[43m        \u001b[49m\u001b[43msubscription_id\u001b[49m\u001b[38;5;241;43m=\u001b[39;49m\u001b[43msubscription_id\u001b[49m\u001b[43m,\u001b[49m\n\u001b[1;32m    589\u001b[0m \u001b[43m        \u001b[49m\u001b[43mresource_group\u001b[49m\u001b[38;5;241;43m=\u001b[39;49m\u001b[43mresource_group\u001b[49m\u001b[43m,\u001b[49m\n\u001b[1;32m    590\u001b[0m \u001b[43m        \u001b[49m\u001b[43mgrant_workspace_access\u001b[49m\u001b[38;5;241;43m=\u001b[39;49m\u001b[43mgrant_workspace_access\u001b[49m\u001b[43m,\u001b[49m\u001b[43m \u001b[49m\u001b[38;5;241;43m*\u001b[39;49m\u001b[38;5;241;43m*\u001b[39;49m\u001b[43mkwargs\u001b[49m\u001b[43m)\u001b[49m\n",
      "\u001b[0;31mTypeError\u001b[0m: _DatastoreClient.register_azure_sql_database() got an unexpected keyword argument 'port'"
     ]
    }
   ],
   "source": [
    "from azureml.core import Workspace, Datastore\n",
    "\n",
    "# load your workspace\n",
    "ws = Workspace.from_config()\n",
    "\n",
    "# register the SQL server as a datastore (note 'username', not 'user_name')\n",
    "sql_ds = Datastore.register_azure_sql_database(\n",
    "    workspace=ws,\n",
    "    datastore_name=\"clv_sql_ds\",                   \n",
    "    server_name=\"cs5165-server.database.windows.net\",\n",
    "    database_name=\"cs5165-database\",\n",
    "    username=\"prestonisawesome\",\n",
    "    password=\"Password123!\",\n",
    "    port=1433,\n",
    "    driver=\"{ODBC Driver 17 for SQL Server}\"\n",
    ")\n",
    "\n",
    "print(f\"Datastore registered: {sql_ds.name}\")\n",
    "\n"
   ]
  },
  {
   "cell_type": "code",
   "execution_count": 3,
   "id": "b0f2e451-b8df-4ffa-ad00-f4fa2f8fe4b4",
   "metadata": {
    "tags": []
   },
   "outputs": [
    {
     "ename": "TypeError",
     "evalue": "_DatastoreClient.register_azure_sql_database() got an unexpected keyword argument 'description'",
     "output_type": "error",
     "traceback": [
      "\u001b[0;31m---------------------------------------------------------------------------\u001b[0m",
      "\u001b[0;31mTypeError\u001b[0m                                 Traceback (most recent call last)",
      "Cell \u001b[0;32mIn[3], line 5\u001b[0m\n\u001b[1;32m      1\u001b[0m \u001b[38;5;28;01mfrom\u001b[39;00m\u001b[38;5;250m \u001b[39m\u001b[38;5;21;01mazureml\u001b[39;00m\u001b[38;5;21;01m.\u001b[39;00m\u001b[38;5;21;01mcore\u001b[39;00m\u001b[38;5;250m \u001b[39m\u001b[38;5;28;01mimport\u001b[39;00m Workspace, Datastore\n\u001b[1;32m      3\u001b[0m ws \u001b[38;5;241m=\u001b[39m Workspace\u001b[38;5;241m.\u001b[39mfrom_config()\n\u001b[0;32m----> 5\u001b[0m sql_ds \u001b[38;5;241m=\u001b[39m \u001b[43mDatastore\u001b[49m\u001b[38;5;241;43m.\u001b[39;49m\u001b[43mregister_azure_sql_database\u001b[49m\u001b[43m(\u001b[49m\n\u001b[1;32m      6\u001b[0m \u001b[43m    \u001b[49m\u001b[43mworkspace\u001b[49m\u001b[38;5;241;43m=\u001b[39;49m\u001b[43mws\u001b[49m\u001b[43m,\u001b[49m\n\u001b[1;32m      7\u001b[0m \u001b[43m    \u001b[49m\u001b[43mdatastore_name\u001b[49m\u001b[38;5;241;43m=\u001b[39;49m\u001b[38;5;124;43m\"\u001b[39;49m\u001b[38;5;124;43mclv_sql_ds\u001b[39;49m\u001b[38;5;124;43m\"\u001b[39;49m\u001b[43m,\u001b[49m\n\u001b[1;32m      8\u001b[0m \u001b[43m    \u001b[49m\u001b[43mserver_name\u001b[49m\u001b[38;5;241;43m=\u001b[39;49m\u001b[38;5;124;43m\"\u001b[39;49m\u001b[38;5;124;43mcs5165-server.database.windows.net\u001b[39;49m\u001b[38;5;124;43m\"\u001b[39;49m\u001b[43m,\u001b[49m\n\u001b[1;32m      9\u001b[0m \u001b[43m    \u001b[49m\u001b[43mdatabase_name\u001b[49m\u001b[38;5;241;43m=\u001b[39;49m\u001b[38;5;124;43m\"\u001b[39;49m\u001b[38;5;124;43mcs5165-database\u001b[39;49m\u001b[38;5;124;43m\"\u001b[39;49m\u001b[43m,\u001b[49m\n\u001b[1;32m     10\u001b[0m \u001b[43m    \u001b[49m\u001b[43musername\u001b[49m\u001b[38;5;241;43m=\u001b[39;49m\u001b[38;5;124;43m\"\u001b[39;49m\u001b[38;5;124;43mprestonisawesome\u001b[39;49m\u001b[38;5;124;43m\"\u001b[39;49m\u001b[43m,\u001b[49m\n\u001b[1;32m     11\u001b[0m \u001b[43m    \u001b[49m\u001b[43mpassword\u001b[49m\u001b[38;5;241;43m=\u001b[39;49m\u001b[38;5;124;43m\"\u001b[39;49m\u001b[38;5;124;43mPassword123!\u001b[39;49m\u001b[38;5;124;43m\"\u001b[39;49m\u001b[43m,\u001b[49m\n\u001b[1;32m     12\u001b[0m \u001b[43m    \u001b[49m\u001b[43mdescription\u001b[49m\u001b[38;5;241;43m=\u001b[39;49m\u001b[38;5;124;43m\"\u001b[39;49m\u001b[38;5;124;43mDatastore for CLV SQL tables\u001b[39;49m\u001b[38;5;124;43m\"\u001b[39;49m\n\u001b[1;32m     13\u001b[0m \u001b[43m)\u001b[49m\n\u001b[1;32m     15\u001b[0m \u001b[38;5;28mprint\u001b[39m(\u001b[38;5;124mf\u001b[39m\u001b[38;5;124m\"\u001b[39m\u001b[38;5;124mDatastore registered: \u001b[39m\u001b[38;5;132;01m{\u001b[39;00msql_ds\u001b[38;5;241m.\u001b[39mname\u001b[38;5;132;01m}\u001b[39;00m\u001b[38;5;124m\"\u001b[39m)\n",
      "File \u001b[0;32m/anaconda/envs/azureml_py38/lib/python3.10/site-packages/azureml/core/datastore.py:574\u001b[0m, in \u001b[0;36mDatastore.register_azure_sql_database\u001b[0;34m(workspace, datastore_name, server_name, database_name, tenant_id, client_id, client_secret, resource_url, authority_url, endpoint, overwrite, username, password, subscription_id, resource_group, grant_workspace_access, **kwargs)\u001b[0m\n\u001b[1;32m    483\u001b[0m \u001b[38;5;129m@staticmethod\u001b[39m\n\u001b[1;32m    484\u001b[0m \u001b[38;5;28;01mdef\u001b[39;00m\u001b[38;5;250m \u001b[39m\u001b[38;5;21mregister_azure_sql_database\u001b[39m(workspace, datastore_name, server_name, database_name, tenant_id\u001b[38;5;241m=\u001b[39m\u001b[38;5;28;01mNone\u001b[39;00m,\n\u001b[1;32m    485\u001b[0m                                 client_id\u001b[38;5;241m=\u001b[39m\u001b[38;5;28;01mNone\u001b[39;00m, client_secret\u001b[38;5;241m=\u001b[39m\u001b[38;5;28;01mNone\u001b[39;00m, resource_url\u001b[38;5;241m=\u001b[39m\u001b[38;5;28;01mNone\u001b[39;00m, authority_url\u001b[38;5;241m=\u001b[39m\u001b[38;5;28;01mNone\u001b[39;00m,\n\u001b[1;32m    486\u001b[0m                                 endpoint\u001b[38;5;241m=\u001b[39m\u001b[38;5;28;01mNone\u001b[39;00m, overwrite\u001b[38;5;241m=\u001b[39m\u001b[38;5;28;01mFalse\u001b[39;00m, username\u001b[38;5;241m=\u001b[39m\u001b[38;5;28;01mNone\u001b[39;00m, password\u001b[38;5;241m=\u001b[39m\u001b[38;5;28;01mNone\u001b[39;00m, subscription_id\u001b[38;5;241m=\u001b[39m\u001b[38;5;28;01mNone\u001b[39;00m,\n\u001b[1;32m    487\u001b[0m                                 resource_group\u001b[38;5;241m=\u001b[39m\u001b[38;5;28;01mNone\u001b[39;00m, grant_workspace_access\u001b[38;5;241m=\u001b[39m\u001b[38;5;28;01mFalse\u001b[39;00m, \u001b[38;5;241m*\u001b[39m\u001b[38;5;241m*\u001b[39mkwargs):\n\u001b[1;32m    488\u001b[0m \u001b[38;5;250m    \u001b[39m\u001b[38;5;124;03m\"\"\"Initialize a new Azure SQL database Datastore.\u001b[39;00m\n\u001b[1;32m    489\u001b[0m \n\u001b[1;32m    490\u001b[0m \u001b[38;5;124;03m    Credential based (GA) and identity based (Preview) data access are supported,\u001b[39;00m\n\u001b[0;32m   (...)\u001b[0m\n\u001b[1;32m    572\u001b[0m \u001b[38;5;124;03m    :rtype: azureml.data.azure_sql_database_datastore.AzureSqlDatabaseDatastore\u001b[39;00m\n\u001b[1;32m    573\u001b[0m \u001b[38;5;124;03m    \"\"\"\u001b[39;00m\n\u001b[0;32m--> 574\u001b[0m     \u001b[38;5;28;01mreturn\u001b[39;00m \u001b[43mDatastore\u001b[49m\u001b[38;5;241;43m.\u001b[39;49m\u001b[43m_client\u001b[49m\u001b[43m(\u001b[49m\u001b[43m)\u001b[49m\u001b[38;5;241;43m.\u001b[39;49m\u001b[43mregister_azure_sql_database\u001b[49m\u001b[43m(\u001b[49m\n\u001b[1;32m    575\u001b[0m \u001b[43m        \u001b[49m\u001b[43mworkspace\u001b[49m\u001b[38;5;241;43m=\u001b[39;49m\u001b[43mworkspace\u001b[49m\u001b[43m,\u001b[49m\n\u001b[1;32m    576\u001b[0m \u001b[43m        \u001b[49m\u001b[43mdatastore_name\u001b[49m\u001b[38;5;241;43m=\u001b[39;49m\u001b[43mdatastore_name\u001b[49m\u001b[43m,\u001b[49m\n\u001b[1;32m    577\u001b[0m \u001b[43m        \u001b[49m\u001b[43mserver_name\u001b[49m\u001b[38;5;241;43m=\u001b[39;49m\u001b[43mserver_name\u001b[49m\u001b[43m,\u001b[49m\n\u001b[1;32m    578\u001b[0m \u001b[43m        \u001b[49m\u001b[43mdatabase_name\u001b[49m\u001b[38;5;241;43m=\u001b[39;49m\u001b[43mdatabase_name\u001b[49m\u001b[43m,\u001b[49m\n\u001b[1;32m    579\u001b[0m \u001b[43m        \u001b[49m\u001b[43mtenant_id\u001b[49m\u001b[38;5;241;43m=\u001b[39;49m\u001b[43mtenant_id\u001b[49m\u001b[43m,\u001b[49m\n\u001b[1;32m    580\u001b[0m \u001b[43m        \u001b[49m\u001b[43mclient_id\u001b[49m\u001b[38;5;241;43m=\u001b[39;49m\u001b[43mclient_id\u001b[49m\u001b[43m,\u001b[49m\n\u001b[1;32m    581\u001b[0m \u001b[43m        \u001b[49m\u001b[43mclient_secret\u001b[49m\u001b[38;5;241;43m=\u001b[39;49m\u001b[43mclient_secret\u001b[49m\u001b[43m,\u001b[49m\n\u001b[1;32m    582\u001b[0m \u001b[43m        \u001b[49m\u001b[43mresource_url\u001b[49m\u001b[38;5;241;43m=\u001b[39;49m\u001b[43mresource_url\u001b[49m\u001b[43m,\u001b[49m\n\u001b[1;32m    583\u001b[0m \u001b[43m        \u001b[49m\u001b[43mauthority_url\u001b[49m\u001b[38;5;241;43m=\u001b[39;49m\u001b[43mauthority_url\u001b[49m\u001b[43m,\u001b[49m\n\u001b[1;32m    584\u001b[0m \u001b[43m        \u001b[49m\u001b[43mendpoint\u001b[49m\u001b[38;5;241;43m=\u001b[39;49m\u001b[43mendpoint\u001b[49m\u001b[43m,\u001b[49m\n\u001b[1;32m    585\u001b[0m \u001b[43m        \u001b[49m\u001b[43moverwrite\u001b[49m\u001b[38;5;241;43m=\u001b[39;49m\u001b[43moverwrite\u001b[49m\u001b[43m,\u001b[49m\n\u001b[1;32m    586\u001b[0m \u001b[43m        \u001b[49m\u001b[43musername\u001b[49m\u001b[38;5;241;43m=\u001b[39;49m\u001b[43musername\u001b[49m\u001b[43m,\u001b[49m\n\u001b[1;32m    587\u001b[0m \u001b[43m        \u001b[49m\u001b[43mpassword\u001b[49m\u001b[38;5;241;43m=\u001b[39;49m\u001b[43mpassword\u001b[49m\u001b[43m,\u001b[49m\n\u001b[1;32m    588\u001b[0m \u001b[43m        \u001b[49m\u001b[43msubscription_id\u001b[49m\u001b[38;5;241;43m=\u001b[39;49m\u001b[43msubscription_id\u001b[49m\u001b[43m,\u001b[49m\n\u001b[1;32m    589\u001b[0m \u001b[43m        \u001b[49m\u001b[43mresource_group\u001b[49m\u001b[38;5;241;43m=\u001b[39;49m\u001b[43mresource_group\u001b[49m\u001b[43m,\u001b[49m\n\u001b[1;32m    590\u001b[0m \u001b[43m        \u001b[49m\u001b[43mgrant_workspace_access\u001b[49m\u001b[38;5;241;43m=\u001b[39;49m\u001b[43mgrant_workspace_access\u001b[49m\u001b[43m,\u001b[49m\u001b[43m \u001b[49m\u001b[38;5;241;43m*\u001b[39;49m\u001b[38;5;241;43m*\u001b[39;49m\u001b[43mkwargs\u001b[49m\u001b[43m)\u001b[49m\n",
      "\u001b[0;31mTypeError\u001b[0m: _DatastoreClient.register_azure_sql_database() got an unexpected keyword argument 'description'"
     ]
    }
   ],
   "source": [
    "from azureml.core import Workspace, Datastore\n",
    "\n",
    "ws = Workspace.from_config()\n",
    "\n",
    "sql_ds = Datastore.register_azure_sql_database(\n",
    "    workspace=ws,\n",
    "    datastore_name=\"clv_sql_ds\",\n",
    "    server_name=\"cs5165-server.database.windows.net\",\n",
    "    database_name=\"cs5165-database\",\n",
    "    username=\"prestonisawesome\",\n",
    "    password=\"Password123!\",\n",
    "    description=\"Datastore for CLV SQL tables\"\n",
    ")\n",
    "\n",
    "print(f\"Datastore registered: {sql_ds.name}\")\n"
   ]
  },
  {
   "cell_type": "code",
   "execution_count": 4,
   "id": "cd2aaaec-cdf1-4727-9db8-3da3921ecc2d",
   "metadata": {
    "tags": []
   },
   "outputs": [],
   "source": [
    "!pip install pyodbc pandas --quiet\n",
    "\n"
   ]
  },
  {
   "cell_type": "code",
   "execution_count": 5,
   "id": "7bbc4004-f64a-4bbf-b142-1df260b5dffa",
   "metadata": {
    "tags": []
   },
   "outputs": [
    {
     "name": "stderr",
     "output_type": "stream",
     "text": [
      "/tmp/ipykernel_29279/707597265.py:20: UserWarning: pandas only supports SQLAlchemy connectable (engine/connection) or database string URI or sqlite3 DBAPI2 connection. Other DBAPI2 objects are not tested. Please consider using SQLAlchemy.\n",
      "  df_households   = pd.read_sql(\"SELECT * FROM dbo.[400_households];\",   cnxn)\n",
      "/tmp/ipykernel_29279/707597265.py:21: UserWarning: pandas only supports SQLAlchemy connectable (engine/connection) or database string URI or sqlite3 DBAPI2 connection. Other DBAPI2 objects are not tested. Please consider using SQLAlchemy.\n",
      "  df_products     = pd.read_sql(\"SELECT * FROM dbo.[400_products];\",     cnxn)\n",
      "/tmp/ipykernel_29279/707597265.py:22: UserWarning: pandas only supports SQLAlchemy connectable (engine/connection) or database string URI or sqlite3 DBAPI2 connection. Other DBAPI2 objects are not tested. Please consider using SQLAlchemy.\n",
      "  df_transactions = pd.read_sql(\"SELECT * FROM dbo.[400_transactions];\", cnxn)\n"
     ]
    },
    {
     "name": "stdout",
     "output_type": "stream",
     "text": [
      "Households: (400, 9)\n",
      "Products: (67284, 5)\n",
      "Transactions: (922008, 9)\n"
     ]
    },
    {
     "data": {
      "text/plain": [
       "(   HSHD_NUM  L                                          AGE_RANGE  MARITAL  \\\n",
       " 0        10  Y  45-54                                         ...  Single    \n",
       " 1        29  Y  55-64                                         ...  Married   \n",
       " 2        53  Y  55-64                                         ...  Married   \n",
       " \n",
       "                                         INCOME_RANGE  HOMEOWNER  \\\n",
       " 0  35-49K                                        ...  Homeowner   \n",
       " 1  100-150K                                      ...  Homeowner   \n",
       " 2  50-74K                                        ...  Homeowner   \n",
       " \n",
       "     HSHD_COMPOSITION                                            HH_SIZE  \\\n",
       " 0  1 Adult            1                                             ...   \n",
       " 1  2 Adults and Kids  3                                             ...   \n",
       " 2  2 Adults and Kids  3                                             ...   \n",
       " \n",
       "   CHILDREN  \n",
       " 0     null  \n",
       " 1        1  \n",
       " 2        1  ,\n",
       "    PRODUCT_NUM                  DEPARTMENT                   COMMODITY  \\\n",
       " 0            7  NON-FOOD                    PERSONAL CARE                \n",
       " 1          201  FOOD                        BEVERAGE - NON WATER         \n",
       " 2          542  FOOD                        ALCOHOL                      \n",
       " \n",
       "    BRAND_TY NATURAL_ORGANIC_FLAG  \n",
       " 0  NATIONAL                    N  \n",
       " 1  NATIONAL                    N  \n",
       " 2  NATIONAL                    N  ,\n",
       "    BASKET_NUM  HSHD_NUM PURCHASE_DATE  PRODUCT_NUM  SPEND  UNITS  STORE_R  \\\n",
       " 0           2       577    2018-08-17        83652   0.59      1  CENTRAL   \n",
       " 1           9      1916    2018-08-17      6157725   3.49      1  WEST      \n",
       " 2          16       514    2018-08-17       654479   2.24      1  CENTRAL   \n",
       " \n",
       "    WEEK_NUM  YEAR  \n",
       " 0        32  2018  \n",
       " 1        32  2018  \n",
       " 2        32  2018  )"
      ]
     },
     "execution_count": 5,
     "metadata": {},
     "output_type": "execute_result"
    }
   ],
   "source": [
    "import pyodbc\n",
    "import pandas as pd\n",
    "from azureml.core import Workspace\n",
    "\n",
    "# 1) Connect to your workspace\n",
    "ws = Workspace.from_config()\n",
    "\n",
    "# 2) Build your ODBC connection\n",
    "conn_str = (\n",
    "    \"DRIVER={ODBC Driver 17 for SQL Server};\"\n",
    "    \"SERVER=cs5165-server.database.windows.net,1433;\"\n",
    "    \"DATABASE=cs5165-database;\"\n",
    "    \"UID=prestonisawesome;\"\n",
    "    \"PWD=Password123!;\"\n",
    "    \"Encrypt=yes;TrustServerCertificate=no;Connection Timeout=30;\"\n",
    ")\n",
    "cnxn = pyodbc.connect(conn_str)\n",
    "\n",
    "# 3) Load each table\n",
    "df_households   = pd.read_sql(\"SELECT * FROM dbo.[400_households];\",   cnxn)\n",
    "df_products     = pd.read_sql(\"SELECT * FROM dbo.[400_products];\",     cnxn)\n",
    "df_transactions = pd.read_sql(\"SELECT * FROM dbo.[400_transactions];\", cnxn)\n",
    "\n",
    "# 4) Quick sanity checks\n",
    "print(\"Households:\",   df_households.shape)\n",
    "print(\"Products:\",     df_products.shape)\n",
    "print(\"Transactions:\", df_transactions.shape)\n",
    "\n",
    "df_households.head(3), df_products.head(3), df_transactions.head(3)\n"
   ]
  },
  {
   "cell_type": "code",
   "execution_count": 6,
   "id": "02a7cec4-24f5-4865-8134-f72d588556f8",
   "metadata": {
    "tags": []
   },
   "outputs": [
    {
     "name": "stdout",
     "output_type": "stream",
     "text": [
      "=== HOUSEHOLDS ===\n",
      "<class 'pandas.core.frame.DataFrame'>\n",
      "RangeIndex: 400 entries, 0 to 399\n",
      "Data columns (total 9 columns):\n",
      " #   Column            Non-Null Count  Dtype \n",
      "---  ------            --------------  ----- \n",
      " 0   HSHD_NUM          400 non-null    int64 \n",
      " 1   L                 400 non-null    object\n",
      " 2   AGE_RANGE         400 non-null    object\n",
      " 3   MARITAL           400 non-null    object\n",
      " 4   INCOME_RANGE      400 non-null    object\n",
      " 5   HOMEOWNER         400 non-null    object\n",
      " 6   HSHD_COMPOSITION  400 non-null    object\n",
      " 7   HH_SIZE           400 non-null    object\n",
      " 8   CHILDREN          400 non-null    object\n",
      "dtypes: int64(1), object(8)\n",
      "memory usage: 28.2+ KB\n",
      "\n",
      "Nulls per column:\n",
      "HSHD_NUM            0\n",
      "L                   0\n",
      "AGE_RANGE           0\n",
      "MARITAL             0\n",
      "INCOME_RANGE        0\n",
      "HOMEOWNER           0\n",
      "HSHD_COMPOSITION    0\n",
      "HH_SIZE             0\n",
      "CHILDREN            0\n",
      "dtype: int64\n",
      "\n",
      "=== PRODUCTS ===\n",
      "<class 'pandas.core.frame.DataFrame'>\n",
      "RangeIndex: 67284 entries, 0 to 67283\n",
      "Data columns (total 5 columns):\n",
      " #   Column                Non-Null Count  Dtype \n",
      "---  ------                --------------  ----- \n",
      " 0   PRODUCT_NUM           67284 non-null  int64 \n",
      " 1   DEPARTMENT            67284 non-null  object\n",
      " 2   COMMODITY             67284 non-null  object\n",
      " 3   BRAND_TY              67284 non-null  object\n",
      " 4   NATURAL_ORGANIC_FLAG  67284 non-null  object\n",
      "dtypes: int64(1), object(4)\n",
      "memory usage: 2.6+ MB\n",
      "\n",
      "Nulls per column:\n",
      "PRODUCT_NUM             0\n",
      "DEPARTMENT              0\n",
      "COMMODITY               0\n",
      "BRAND_TY                0\n",
      "NATURAL_ORGANIC_FLAG    0\n",
      "dtype: int64\n",
      "\n",
      "=== TRANSACTIONS ===\n",
      "<class 'pandas.core.frame.DataFrame'>\n",
      "RangeIndex: 922008 entries, 0 to 922007\n",
      "Data columns (total 9 columns):\n",
      " #   Column         Non-Null Count   Dtype  \n",
      "---  ------         --------------   -----  \n",
      " 0   BASKET_NUM     922008 non-null  int64  \n",
      " 1   HSHD_NUM       922008 non-null  int64  \n",
      " 2   PURCHASE_DATE  922008 non-null  object \n",
      " 3   PRODUCT_NUM    922008 non-null  int64  \n",
      " 4   SPEND          922008 non-null  float64\n",
      " 5   UNITS          922008 non-null  int64  \n",
      " 6   STORE_R        922008 non-null  object \n",
      " 7   WEEK_NUM       922008 non-null  int64  \n",
      " 8   YEAR           922008 non-null  int64  \n",
      "dtypes: float64(1), int64(6), object(2)\n",
      "memory usage: 63.3+ MB\n",
      "\n",
      "Nulls per column:\n",
      "BASKET_NUM       0\n",
      "HSHD_NUM         0\n",
      "PURCHASE_DATE    0\n",
      "PRODUCT_NUM      0\n",
      "SPEND            0\n",
      "UNITS            0\n",
      "STORE_R          0\n",
      "WEEK_NUM         0\n",
      "YEAR             0\n",
      "dtype: int64\n",
      "\n",
      "--- Spend Summary ---\n",
      "count    922008.000000\n",
      "mean          3.824765\n",
      "std           4.075380\n",
      "min         -14.990000\n",
      "25%           1.690000\n",
      "50%           2.790000\n",
      "75%           4.490000\n",
      "max         269.990000\n",
      "Name: SPEND, dtype: float64\n",
      "\n",
      "--- Household Size Value Counts ---\n",
      "2                                                                                                                                                                                                           101\n",
      "1                                                                                                                                                                                                            92\n",
      "3                                                                                                                                                                                                            70\n",
      "null                                                                                                                                                                                                         68\n",
      "5+                                                                                                                                                                                                           38\n",
      "4                                                                                                                                                                                                            31\n",
      "Name: HH_SIZE, dtype: int64\n",
      "\n",
      "--- Top 5 Households by Total Spend ---\n",
      "HSHD_NUM\n",
      "438     35807.22\n",
      "2512    32915.63\n",
      "1241    31716.87\n",
      "60      30628.33\n",
      "1245    29224.17\n",
      "Name: SPEND, dtype: float64\n"
     ]
    }
   ],
   "source": [
    "\n",
    "# 1) Quick schema and null checks\n",
    "print(\"=== HOUSEHOLDS ===\")\n",
    "df_households.info()\n",
    "print(\"\\nNulls per column:\")\n",
    "print(df_households.isnull().sum())\n",
    "\n",
    "print(\"\\n=== PRODUCTS ===\")\n",
    "df_products.info()\n",
    "print(\"\\nNulls per column:\")\n",
    "print(df_products.isnull().sum())\n",
    "\n",
    "print(\"\\n=== TRANSACTIONS ===\")\n",
    "df_transactions.info()\n",
    "print(\"\\nNulls per column:\")\n",
    "print(df_transactions.isnull().sum())\n",
    "\n",
    "# 2) Descriptive statistics\n",
    "print(\"\\n--- Spend Summary ---\")\n",
    "print(df_transactions[\"SPEND\"].describe())\n",
    "\n",
    "# 3) Distribution of household sizes (example)\n",
    "print(\"\\n--- Household Size Value Counts ---\")\n",
    "print(df_households[\"HH_SIZE\"].value_counts())\n",
    "\n",
    "# 4) Peek at top 5 spenders by household\n",
    "spend_per_hh = (\n",
    "    df_transactions\n",
    "    .groupby(\"HSHD_NUM\")[\"SPEND\"]\n",
    "    .sum()\n",
    "    .sort_values(ascending=False)\n",
    ")\n",
    "print(\"\\n--- Top 5 Households by Total Spend ---\")\n",
    "print(spend_per_hh.head(5))\n"
   ]
  },
  {
   "cell_type": "code",
   "execution_count": 10,
   "id": "2b62aed4-6dc4-43bc-a496-3fa2a762c59b",
   "metadata": {
    "tags": []
   },
   "outputs": [
    {
     "data": {
      "image/png": "[encoded data removed]",
      "text/plain": [
       "<Figure size 800x400 with 1 Axes>"
      ]
     },
     "metadata": {},
     "output_type": "display_data"
    }
   ],
   "source": [
    "import pandas as pd\n",
    "import matplotlib.pyplot as plt\n",
    "\n",
    "# PURCHASE_DATE  datetime\n",
    "df_transactions['PURCHASE_DATE'] = pd.to_datetime(df_transactions['PURCHASE_DATE'])\n",
    "\n",
    "# Clean HH_SIZE  numeric\n",
    "hs = df_households['HH_SIZE'].astype(str).str.strip()\n",
    "df_households['HH_SIZE_NUM'] = (\n",
    "    hs\n",
    "     .replace({'null': '0', '': '0', '5+': '5'})  # null/empty → 0, \"5+\" → 5\n",
    "     .astype(float)\n",
    ")\n",
    "\n",
    "# Clean CHILDREN → integer\n",
    "ch = df_households['CHILDREN'].astype(str).str.strip().str.replace('+', '', regex=False)\n",
    "df_households['CHILDREN_NUM'] = (\n",
    "    ch\n",
    "      .replace({'null': '0', '': '0'}) \n",
    "      .astype(int)\n",
    ")\n",
    "\n",
    "# Recompute CLV and re‐plot\n",
    "clv = (\n",
    "    df_transactions\n",
    "     .groupby('HSHD_NUM')['SPEND'].sum()\n",
    "     .reset_index(name='CLV')\n",
    "     .merge(\n",
    "         df_households[['HSHD_NUM', 'HH_SIZE_NUM', 'CHILDREN_NUM']],\n",
    "         on='HSHD_NUM', how='left'\n",
    "     )\n",
    ")\n",
    "\n",
    "plt.figure(figsize=(8,4))\n",
    "plt.hist(clv['CLV'], bins=30)\n",
    "plt.title('Distribution of Customer Lifetime Value')\n",
    "plt.xlabel('Total Spend per Household (CLV)')\n",
    "plt.ylabel('Number of Households')\n",
    "plt.tight_layout()\n",
    "plt.show()\n",
    "\n"
   ]
  },
  {
   "cell_type": "code",
   "execution_count": 16,
   "id": "edb5fbd2-e588-491f-ac3e-6cda7c61fb6f",
   "metadata": {
    "tags": []
   },
   "outputs": [
    {
     "name": "stdout",
     "output_type": "stream",
     "text": [
      "Transactions after filtering: (917615, 9)\n"
     ]
    }
   ],
   "source": [
    "# Drop returns or zero‐dollar rows\n",
    "df_transactions = df_transactions[df_transactions['SPEND'] > 0].copy()\n",
    "print(\"Transactions after filtering:\", df_transactions.shape)\n"
   ]
  },
  {
   "cell_type": "code",
   "execution_count": 18,
   "id": "e2efb9c7-7430-4d99-978c-f2f30be84989",
   "metadata": {
    "tags": []
   },
   "outputs": [
    {
     "name": "stdout",
     "output_type": "stream",
     "text": [
      "RFM shape: (400, 5)\n",
      "\n",
      "Null counts per column:\n",
      "HSHD_NUM          0\n",
      "frequency         0\n",
      "recency           0\n",
      "T                 0\n",
      "monetary_value    0\n",
      "dtype: int64\n",
      "\n",
      "Recency ≤ T for all households?\n",
      "True\n",
      "\n",
      "RFM summary:\n",
      "          HSHD_NUM    frequency     recency           T  monetary_value\n",
      "count   400.000000   400.000000  400.000000  400.000000      400.000000\n",
      "mean   2469.137500  2294.037500  614.902500  681.682500        3.961095\n",
      "std    1424.312238  1773.950353  235.780957  121.473665        1.327674\n",
      "min      10.000000     1.000000    0.000000   24.000000        1.000000\n",
      "25%    1268.750000  1150.250000  709.000000  722.000000        3.279485\n",
      "50%    2413.000000  2066.000000  723.000000  728.000000        3.725050\n",
      "75%    3710.500000  3274.000000  727.000000  729.250000        4.379560\n",
      "max    4989.000000  9979.000000  729.000000  730.000000       16.980000\n"
     ]
    }
   ],
   "source": [
    "import pandas as pd\n",
    "last_date     = df_transactions['PURCHASE_DATE'].max()\n",
    "snapshot_date = last_date + pd.Timedelta(days=1)\n",
    "\n",
    "# Aggregate purchases\n",
    "agg = df_transactions.groupby('HSHD_NUM').agg(\n",
    "    first_purchase  = ('PURCHASE_DATE','min'),\n",
    "    last_purchase   = ('PURCHASE_DATE','max'),\n",
    "    frequency       = ('PURCHASE_DATE','count'),\n",
    "    monetary_value  = ('SPEND','mean')\n",
    ").reset_index()\n",
    "\n",
    "# Compute recency (time between first & last) and T (time between first & snapshot)\n",
    "agg['recency'] = (agg['last_purchase'] - agg['first_purchase']).dt.days\n",
    "agg['T']       = (snapshot_date             - agg['first_purchase']).dt.days\n",
    "\n",
    "# RFM DataFrame\n",
    "rfm = agg[['HSHD_NUM','frequency','recency','T','monetary_value']]\n",
    "\n",
    "\n",
    "print(\"RFM shape:\", rfm.shape)\n",
    "print(\"\\nNull counts per column:\")\n",
    "print(rfm.isnull().sum())\n",
    "print(\"\\nRecency ≤ T for all households?\")\n",
    "print((rfm['recency'] <= rfm['T']).all())\n",
    "\n",
    "print(\"\\nRFM summary:\")\n",
    "print(rfm.describe())\n",
    "\n"
   ]
  },
  {
   "cell_type": "code",
   "execution_count": 21,
   "id": "b9825ca7-e830-48f8-b196-133f254bd462",
   "metadata": {
    "tags": []
   },
   "outputs": [
    {
     "name": "stdout",
     "output_type": "stream",
     "text": [
      "OOB R² score: 0.971\n",
      "5-fold CV R²: 0.968 ± 0.015\n",
      "\n",
      "Feature importances:\n",
      "frequency         0.924454\n",
      "monetary_value    0.073472\n",
      "recency           0.001619\n",
      "T                 0.000455\n",
      "dtype: float64\n"
     ]
    }
   ],
   "source": [
    "from sklearn.ensemble import RandomForestRegressor\n",
    "from sklearn.model_selection import cross_val_score\n",
    "\n",
    "# Prepare X (features) and y (target = total CLV)\n",
    "clv_total = (\n",
    "    df_transactions\n",
    "      .groupby('HSHD_NUM')['SPEND']\n",
    "      .sum()\n",
    "      .rename('CLV')\n",
    ")\n",
    "# join with rfm on HSHD_NUM\n",
    "rfm_model = rfm.set_index('HSHD_NUM').join(clv_total).dropna()\n",
    "\n",
    "X = rfm_model[['frequency','recency','T','monetary_value']]\n",
    "y = rfm_model['CLV']\n",
    "\n",
    "# Initialize the model\n",
    "rf = RandomForestRegressor(\n",
    "    n_estimators=100,\n",
    "    max_depth=5,\n",
    "    random_state=42,\n",
    "    n_jobs=-1,\n",
    "    oob_score=True,\n",
    ")\n",
    "\n",
    "# Fit & evaluate via OOB score + 5-fold CV\n",
    "rf.fit(X, y)\n",
    "print(f\"OOB R² score: {rf.oob_score_:.3f}\")\n",
    "\n",
    "cv_scores = cross_val_score(rf, X, y, cv=5, scoring='r2', n_jobs=-1)\n",
    "print(f\"5-fold CV R²: {cv_scores.mean():.3f} ± {cv_scores.std():.3f}\")\n",
    "\n",
    "# Feature importances\n",
    "import pandas as pd\n",
    "fi = pd.Series(rf.feature_importances_, index=X.columns).sort_values(ascending=False)\n",
    "print(\"\\nFeature importances:\")\n",
    "print(fi)\n",
    "\n"
   ]
  },
  {
   "cell_type": "code",
   "execution_count": null,
   "id": "350b7b10-acd3-42fe-a4b4-b03987ffc951",
   "metadata": {},
   "outputs": [],
   "source": []
  }
 ],
 "metadata": {
  "kernelspec": {
   "display_name": "Python 3.8 - AzureML",
   "language": "python",
   "name": "python38-azureml"
  },
  "language_info": {
   "codemirror_mode": {
    "name": "ipython",
    "version": 3
   },
   "file_extension": ".py",
   "mimetype": "text/x-python",
   "name": "python",
   "nbconvert_exporter": "python",
   "pygments_lexer": "ipython3",
   "version": "3.10.16"
  }
 },
 "nbformat": 4,
 "nbformat_minor": 5
}

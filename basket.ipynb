{
  "cells": [
    {
      "cell_type": "code",
      "source": [
        "import pandas as pd\n",
        "\n",
        "# Load your saved CSV\n",
        "df = pd.read_csv('basket.csv')  # <- update the filename here\n",
        "\n",
        "# Quick peek\n",
        "print(df.head())\n"
      ],
      "outputs": [
        {
          "output_type": "stream",
          "name": "stdout",
          "text": "   BASKET_NUM                product_name\n0           2  MEDICATION                \n1           9  GROCERY STAPLE            \n2          16  GROCERY STAPLE            \n3          16  PRODUCE                   \n4          25  PERSONAL CARE             \n"
        }
      ],
      "execution_count": 2,
      "metadata": {
        "gather": {
          "logged": 1745697105921
        }
      }
    },
    {
      "cell_type": "code",
      "source": [
        "# Create a basket matrix\n",
        "basket = df.groupby(['BASKET_NUM', 'product_name'])['product_name'] \\\n",
        "           .count().unstack().fillna(0)\n",
        "\n",
        "# Convert counts into 1s and 0s\n",
        "basket = basket.applymap(lambda x: 1 if x > 0 else 0)\n",
        "\n",
        "# Quick peek at the basket\n",
        "print(basket.head())\n"
      ],
      "outputs": [
        {
          "output_type": "stream",
          "name": "stdout",
          "text": "product_name  ACTIVITY                    ALCOHOL                     \\\nBASKET_NUM                                                             \n1                                      0                           1   \n2                                      0                           0   \n3                                      0                           0   \n4                                      0                           0   \n5                                      0                           1   \n\nproduct_name  AUTO                        BABY                        \\\nBASKET_NUM                                                             \n1                                      0                           0   \n2                                      0                           0   \n3                                      0                           0   \n4                                      0                           0   \n5                                      0                           0   \n\nproduct_name  BAKERY                      BEVERAGE - NON WATER        \\\nBASKET_NUM                                                             \n1                                      0                           0   \n2                                      0                           0   \n3                                      0                           0   \n4                                      0                           0   \n5                                      0                           0   \n\nproduct_name  BEVERAGE - WATER            BULK PRODUCTS               \\\nBASKET_NUM                                                             \n1                                      0                           0   \n2                                      0                           0   \n3                                      0                           0   \n4                                      0                           0   \n5                                      1                           0   \n\nproduct_name  CANNED GOODS                CLOTHING                    ...  \\\nBASKET_NUM                                                            ...   \n1                                      0                           0  ...   \n2                                      0                           0  ...   \n3                                      0                           0  ...   \n4                                      0                           0  ...   \n5                                      0                           0  ...   \n\nproduct_name  MISC                        OUTDOOR                     \\\nBASKET_NUM                                                             \n1                                      0                           0   \n2                                      0                           0   \n3                                      0                           0   \n4                                      0                           0   \n5                                      0                           0   \n\nproduct_name  PERSONAL CARE               PET                         \\\nBASKET_NUM                                                             \n1                                      0                           0   \n2                                      1                           0   \n3                                      0                           0   \n4                                      0                           0   \n5                                      0                           0   \n\nproduct_name  PRODUCE                     SEAFOOD                     \\\nBASKET_NUM                                                             \n1                                      0                           0   \n2                                      1                           0   \n3                                      0                           0   \n4                                      0                           0   \n5                                      0                           0   \n\nproduct_name  SEASONAL PRODUCTS           SPECIALTY FOOD              \\\nBASKET_NUM                                                             \n1                                      0                           0   \n2                                      0                           1   \n3                                      0                           0   \n4                                      0                           0   \n5                                      0                           0   \n\nproduct_name  TOBACCO PRODUCTS            TOYS                        \nBASKET_NUM                                                            \n1                                      0                           0  \n2                                      0                           0  \n3                                      0                           0  \n4                                      0                           0  \n5                                      0                           0  \n\n[5 rows x 42 columns]\n"
        }
      ],
      "execution_count": 3,
      "metadata": {
        "gather": {
          "logged": 1745697107489
        }
      }
    },
    {
      "cell_type": "code",
      "source": [
        "!pip install mlxtend\n",
        "from mlxtend.frequent_patterns import apriori, association_rules\n",
        "\n",
        "# STEP 6.1: Find frequent itemsets\n",
        "frequent_itemsets = apriori(basket, min_support=0.015, use_colnames=True)\n",
        "\n",
        "# Quick peek at frequent itemsets\n",
        "print(frequent_itemsets.head())\n"
      ],
      "outputs": [
        {
          "output_type": "stream",
          "name": "stdout",
          "text": "Requirement already satisfied: mlxtend in /anaconda/envs/azureml_py38/lib/python3.10/site-packages (0.23.4)\nRequirement already satisfied: joblib>=0.13.2 in /anaconda/envs/azureml_py38/lib/python3.10/site-packages (from mlxtend) (1.2.0)\nRequirement already satisfied: scikit-learn>=1.3.1 in /anaconda/envs/azureml_py38/lib/python3.10/site-packages (from mlxtend) (1.5.1)\nRequirement already satisfied: pandas>=0.24.2 in /anaconda/envs/azureml_py38/lib/python3.10/site-packages (from mlxtend) (1.5.3)\nRequirement already satisfied: numpy>=1.16.2 in /anaconda/envs/azureml_py38/lib/python3.10/site-packages (from mlxtend) (1.23.5)\nRequirement already satisfied: scipy>=1.2.1 in /anaconda/envs/azureml_py38/lib/python3.10/site-packages (from mlxtend) (1.10.1)\nRequirement already satisfied: matplotlib>=3.0.0 in /anaconda/envs/azureml_py38/lib/python3.10/site-packages (from mlxtend) (3.7.1)\nRequirement already satisfied: fonttools>=4.22.0 in /anaconda/envs/azureml_py38/lib/python3.10/site-packages (from matplotlib>=3.0.0->mlxtend) (4.51.0)\nRequirement already satisfied: cycler>=0.10 in /anaconda/envs/azureml_py38/lib/python3.10/site-packages (from matplotlib>=3.0.0->mlxtend) (0.12.1)\nRequirement already satisfied: pillow>=6.2.0 in /anaconda/envs/azureml_py38/lib/python3.10/site-packages (from matplotlib>=3.0.0->mlxtend) (9.2.0)\nRequirement already satisfied: contourpy>=1.0.1 in /anaconda/envs/azureml_py38/lib/python3.10/site-packages (from matplotlib>=3.0.0->mlxtend) (1.3.1)\nRequirement already satisfied: pyparsing>=2.3.1 in /anaconda/envs/azureml_py38/lib/python3.10/site-packages (from matplotlib>=3.0.0->mlxtend) (3.2.0)\nRequirement already satisfied: kiwisolver>=1.0.1 in /anaconda/envs/azureml_py38/lib/python3.10/site-packages (from matplotlib>=3.0.0->mlxtend) (1.4.7)\nRequirement already satisfied: python-dateutil>=2.7 in /anaconda/envs/azureml_py38/lib/python3.10/site-packages (from matplotlib>=3.0.0->mlxtend) (2.9.0.post0)\nRequirement already satisfied: packaging>=20.0 in /anaconda/envs/azureml_py38/lib/python3.10/site-packages (from matplotlib>=3.0.0->mlxtend) (24.2)\nRequirement already satisfied: pytz>=2020.1 in /anaconda/envs/azureml_py38/lib/python3.10/site-packages (from pandas>=0.24.2->mlxtend) (2022.5)\nRequirement already satisfied: threadpoolctl>=3.1.0 in /anaconda/envs/azureml_py38/lib/python3.10/site-packages (from scikit-learn>=1.3.1->mlxtend) (3.5.0)\nRequirement already satisfied: six>=1.5 in /anaconda/envs/azureml_py38/lib/python3.10/site-packages (from python-dateutil>=2.7->matplotlib>=3.0.0->mlxtend) (1.17.0)\n    support                      itemsets\n0  0.120171  (ALCOHOL                   )\n1  0.035459  (BABY                      )\n2  0.324197  (BAKERY                    )\n3  0.321689  (BEVERAGE - NON WATER      )\n4  0.135920  (BEVERAGE - WATER          )\n"
        },
        {
          "output_type": "stream",
          "name": "stderr",
          "text": "/anaconda/envs/azureml_py38/lib/python3.10/site-packages/mlxtend/frequent_patterns/fpcommon.py:161: DeprecationWarning: DataFrames with non-bool types result in worse computationalperformance and their support might be discontinued in the future.Please use a DataFrame with bool type\n  warnings.warn(\n"
        }
      ],
      "execution_count": 4,
      "metadata": {
        "gather": {
          "logged": 1745697149775
        }
      }
    },
    {
      "cell_type": "code",
      "source": [
        "# Generate association rules\n",
        "rules = association_rules(frequent_itemsets, metric=\"lift\", min_threshold=1.0)\n",
        "\n",
        "# Keep only the useful columns\n",
        "rules = rules[['antecedents', 'consequents', 'support', 'confidence', 'lift']]\n",
        "\n",
        "# Peek at the rules\n",
        "print(rules.head())\n"
      ],
      "outputs": [
        {
          "output_type": "stream",
          "name": "stdout",
          "text": "                    antecedents                   consequents   support  \\\n0  (ALCOHOL                   )  (BAKERY                    )  0.042045   \n1  (BAKERY                    )  (ALCOHOL                   )  0.042045   \n2  (ALCOHOL                   )  (BEVERAGE - NON WATER      )  0.042807   \n3  (BEVERAGE - NON WATER      )  (ALCOHOL                   )  0.042807   \n4  (ALCOHOL                   )  (BEVERAGE - WATER          )  0.021608   \n\n   confidence      lift  \n0    0.349878  1.079214  \n1    0.129690  1.079214  \n2    0.356216  1.107331  \n3    0.133069  1.107331  \n4    0.179815  1.322946  \n"
        }
      ],
      "execution_count": 5,
      "metadata": {
        "gather": {
          "logged": 1745697150959
        }
      }
    },
    {
      "cell_type": "code",
      "source": [
        "# Convert antecedents and consequents from sets to clean strings\n",
        "rules['antecedents'] = rules['antecedents'].apply(lambda x: ', '.join(list(x)))\n",
        "rules['consequents'] = rules['consequents'].apply(lambda x: ', '.join(list(x)))\n",
        "\n",
        "# Quick check\n",
        "print(rules.head())\n"
      ],
      "outputs": [
        {
          "output_type": "stream",
          "name": "stdout",
          "text": "                  antecedents                 consequents   support  \\\n0  ALCOHOL                     BAKERY                      0.042045   \n1  BAKERY                      ALCOHOL                     0.042045   \n2  ALCOHOL                     BEVERAGE - NON WATER        0.042807   \n3  BEVERAGE - NON WATER        ALCOHOL                     0.042807   \n4  ALCOHOL                     BEVERAGE - WATER            0.021608   \n\n   confidence      lift  \n0    0.349878  1.079214  \n1    0.129690  1.079214  \n2    0.356216  1.107331  \n3    0.133069  1.107331  \n4    0.179815  1.322946  \n"
        }
      ],
      "execution_count": 6,
      "metadata": {
        "gather": {
          "logged": 1745697151116
        }
      }
    },
    {
      "cell_type": "code",
      "source": [
        "\n",
        "rules.to_json('basket_data.json', orient='records', lines=False)\n",
        "\n"
      ],
      "outputs": [],
      "execution_count": 7,
      "metadata": {
        "gather": {
          "logged": 1745697151709
        }
      }
    }
  ],
  "metadata": {
    "kernelspec": {
      "name": "python38-azureml",
      "language": "python",
      "display_name": "Python 3.8 - AzureML"
    },
    "language_info": {
      "name": "python",
      "version": "3.10.16",
      "mimetype": "text/x-python",
      "codemirror_mode": {
        "name": "ipython",
        "version": 3
      },
      "pygments_lexer": "ipython3",
      "nbconvert_exporter": "python",
      "file_extension": ".py"
    },
    "microsoft": {
      "ms_spell_check": {
        "ms_spell_check_language": "en"
      },
      "host": {
        "AzureML": {
          "notebookHasBeenCompleted": true
        }
      }
    },
    "kernel_info": {
      "name": "python38-azureml"
    },
    "nteract": {
      "version": "nteract-front-end@1.0.0"
    }
  },
  "nbformat": 4,
  "nbformat_minor": 2
}